{
 "cells": [
  {
   "cell_type": "markdown",
   "metadata": {
    "id": "YZjLlp88Cb30"
   },
   "source": [
    "# Get the data\n",
    "\n",
    "In this notebook we will focus on **Listings data**  \n",
    "\n",
    "**Listings data** is a dataset that includes information about properties listed on Airbnb. This dataset includes details about the\n",
    "* location,\n",
    "* price,\n",
    "* availability, and\n",
    "* amenities of each property.\n",
    "\n",
    "Here are some examples of the types of information that might be included in the listings data:\n",
    "\n",
    "* **Property type**: Is the property a private room, shared room, or entire home/apartment?\n",
    "\n",
    "* **Location**: Where is the property located (e.g., city, state, country)?\n",
    "\n",
    "* **Price**: How much does it cost to stay at the property?\n",
    "\n",
    "* **Availability**: When is the property available for booking?\n",
    "\n",
    "* **Amenities**: What amenities are available at the property (e.g., WiFi, laundry facilities, kitchen)?\n",
    "\n",
    "* **Photos**: What does the property look like (e.g., interior, exterior)?\n",
    "\n",
    "Listings data can be useful for understanding the types of properties that are available on Airbnb, as well as the prices and amenities offered. It can also be used to analyze trends in the hospitality industry and understand the demand for different types of accommodations. For example, researchers might use listings data to study the impact of Airbnb on the housing market in a particular city, or to **understand the factors that influence the popularity of different types of properties**.\n"
   ]
  },
  {
   "cell_type": "code",
   "execution_count": 4,
   "metadata": {
    "colab": {
     "base_uri": "https://localhost:8080/"
    },
    "executionInfo": {
     "elapsed": 11313,
     "status": "ok",
     "timestamp": 1734102598773,
     "user": {
      "displayName": "Patryk Nowicki",
      "userId": "04245611520472912421"
     },
     "user_tz": -60
    },
    "id": "1kczAVcO4OrE",
    "outputId": "3621b3f6-0ec3-4590-f580-e2d851d847ca"
   },
   "outputs": [
    {
     "name": "stdout",
     "output_type": "stream",
     "text": [
      "Requirement already satisfied: wget in /opt/anaconda3/lib/python3.12/site-packages (3.2)\n"
     ]
    }
   ],
   "source": [
    "# Install wget\n",
    "!pip install wget\n",
    "\n",
    "# Remove airbnb_data folder (if exists)\n",
    "!rm -rf airbnb_data"
   ]
  },
  {
   "cell_type": "code",
   "execution_count": 6,
   "metadata": {
    "id": "H_Bm2y4DjE7i"
   },
   "outputs": [
    {
     "name": "stdout",
     "output_type": "stream",
     "text": [
      "https://data.insideairbnb.com/united-states/tx/austin/2024-09-13/data/listings.csv.gz\n",
      " - downloaded to: airbnb_data/austin/listings.csv.gz\n",
      "100% [......................................................] 8902975 / 8902975https://data.insideairbnb.com/thailand/central-thailand/bangkok/2024-09-25/data/listings.csv.gz\n",
      " - downloaded to: airbnb_data/bangkok/listings.csv.gz\n",
      "100% [....................................................] 12630227 / 12630227https://data.insideairbnb.com/spain/catalonia/barcelona/2024-09-06/data/listings.csv.gz\n",
      " - downloaded to: airbnb_data/barcelona/listings.csv.gz\n",
      "100% [......................................................] 9977937 / 9977937https://data.insideairbnb.com/united-states/fl/broward-county/2024-09-23/data/listings.csv.gz\n",
      " - downloaded to: airbnb_data/broward-county/listings.csv.gz\n",
      "100% [......................................................] 9989897 / 9989897https://data.insideairbnb.com/argentina/ciudad-autónoma-de-buenos-aires/buenos-aires/2024-11-29/data/listings.csv.gz\n",
      " - downloaded to: airbnb_data/buenos-aires/listings.csv.gz\n",
      "100% [....................................................] 19585361 / 19585361https://data.insideairbnb.com/south-africa/wc/cape-town/2024-09-25/data/listings.csv.gz\n",
      " - downloaded to: airbnb_data/cape-town/listings.csv.gz\n",
      "100% [....................................................] 13731765 / 13731765https://data.insideairbnb.com/united-states/nv/clark-county-nv/2024-09-18/data/listings.csv.gz\n",
      " - downloaded to: airbnb_data/clark-county-nv/listings.csv.gz\n",
      "100% [......................................................] 7743373 / 7743373https://data.insideairbnb.com/denmark/hovedstaden/copenhagen/2024-09-28/data/listings.csv.gz\n",
      " - downloaded to: airbnb_data/copenhagen/listings.csv.gz\n",
      "100% [....................................................] 10517548 / 10517548https://data.insideairbnb.com/greece/crete/crete/2024-09-26/data/listings.csv.gz\n",
      " - downloaded to: airbnb_data/crete/listings.csv.gz\n",
      "100% [....................................................] 16104521 / 16104521https://data.insideairbnb.com/spain/catalonia/girona/2024-09-29/data/listings.csv.gz\n",
      " - downloaded to: airbnb_data/girona/listings.csv.gz\n",
      "100% [....................................................] 11042010 / 11042010https://data.insideairbnb.com/united-states/hi/hawaii/2024-09-13/data/listings.csv.gz\n",
      " - downloaded to: airbnb_data/hawaii/listings.csv.gz\n",
      "100% [....................................................] 19791712 / 19791712https://data.insideairbnb.com/turkey/marmara/istanbul/2024-09-28/data/listings.csv.gz\n",
      " - downloaded to: airbnb_data/istanbul/listings.csv.gz\n",
      "100% [....................................................] 12839803 / 12839803https://data.insideairbnb.com/portugal/lisbon/lisbon/2024-09-14/data/listings.csv.gz\n",
      " - downloaded to: airbnb_data/lisbon/listings.csv.gz\n",
      "100% [....................................................] 13612923 / 13612923https://data.insideairbnb.com/united-kingdom/england/london/2024-09-06/data/listings.csv.gz\n",
      " - downloaded to: airbnb_data/london/listings.csv.gz\n",
      "100% [....................................................] 50734149 / 50734149https://data.insideairbnb.com/united-states/ca/los-angeles/2024-09-04/data/listings.csv.gz\n",
      " - downloaded to: airbnb_data/los-angeles/listings.csv.gz\n",
      "100% [....................................................] 27840862 / 27840862https://data.insideairbnb.com/spain/comunidad-de-madrid/madrid/2024-09-11/data/listings.csv.gz\n",
      " - downloaded to: airbnb_data/madrid/listings.csv.gz\n",
      "100% [....................................................] 14479427 / 14479427https://data.insideairbnb.com/spain/islas-baleares/mallorca/2024-09-13/data/listings.csv.gz\n",
      " - downloaded to: airbnb_data/mallorca/listings.csv.gz\n",
      "100% [......................................................] 9594202 / 9594202https://data.insideairbnb.com/australia/vic/melbourne/2024-09-05/data/listings.csv.gz\n",
      " - downloaded to: airbnb_data/melbourne/listings.csv.gz\n",
      "100% [....................................................] 14646781 / 14646781https://data.insideairbnb.com/mexico/df/mexico-city/2024-09-25/data/listings.csv.gz\n",
      " - downloaded to: airbnb_data/mexico-city/listings.csv.gz\n",
      "100% [....................................................] 14277901 / 14277901https://data.insideairbnb.com/italy/lombardy/milan/2024-09-17/data/listings.csv.gz\n",
      " - downloaded to: airbnb_data/milan/listings.csv.gz\n",
      "100% [....................................................] 13361495 / 13361495https://data.insideairbnb.com/united-states/ny/new-york-city/2024-11-04/data/listings.csv.gz\n",
      " - downloaded to: airbnb_data/new-york-city/listings.csv.gz\n",
      "100% [....................................................] 18504411 / 18504411https://data.insideairbnb.com/france/ile-de-france/paris/2024-09-06/data/listings.csv.gz\n",
      " - downloaded to: airbnb_data/paris/listings.csv.gz\n",
      "100% [....................................................] 50788148 / 50788148https://data.insideairbnb.com/italy/puglia/puglia/2024-09-29/data/listings.csv.gz\n",
      " - downloaded to: airbnb_data/puglia/listings.csv.gz\n",
      "100% [....................................................] 23603821 / 23603821https://data.insideairbnb.com/brazil/rj/rio-de-janeiro/2024-09-25/data/listings.csv.gz\n",
      " - downloaded to: airbnb_data/rio-de-janeiro/listings.csv.gz\n",
      "100% [....................................................] 19202613 / 19202613https://data.insideairbnb.com/italy/lazio/rome/2024-09-11/data/listings.csv.gz\n",
      " - downloaded to: airbnb_data/rome/listings.csv.gz\n",
      "100% [....................................................] 19383646 / 19383646https://data.insideairbnb.com/italy/sicilia/sicily/2024-09-28/data/listings.csv.gz\n",
      " - downloaded to: airbnb_data/sicily/listings.csv.gz\n",
      "100% [....................................................] 30144814 / 30144814https://data.insideairbnb.com/greece/south-aegean/south-aegean/2024-09-20/data/listings.csv.gz\n",
      " - downloaded to: airbnb_data/south-aegean/listings.csv.gz\n",
      "100% [....................................................] 17463313 / 17463313https://data.insideairbnb.com/australia/nsw/sydney/2024-09-05/data/listings.csv.gz\n",
      " - downloaded to: airbnb_data/sydney/listings.csv.gz\n",
      "100% [....................................................] 10345261 / 10345261https://data.insideairbnb.com/japan/kantō/tokyo/2024-09-27/data/listings.csv.gz\n",
      " - downloaded to: airbnb_data/tokyo/listings.csv.gz\n",
      "100% [....................................................] 11738554 / 11738554https://data.insideairbnb.com/canada/on/toronto/2024-11-07/data/listings.csv.gz\n",
      " - downloaded to: airbnb_data/toronto/listings.csv.gz\n",
      "100% [....................................................] 11787062 / 11787062"
     ]
    }
   ],
   "source": [
    "# Define list of data links to download\n",
    "urls_clean = ['https://data.insideairbnb.com/united-states/tx/austin/2024-09-13/data/listings.csv.gz',\n",
    " 'https://data.insideairbnb.com/thailand/central-thailand/bangkok/2024-09-25/data/listings.csv.gz',\n",
    " 'https://data.insideairbnb.com/spain/catalonia/barcelona/2024-09-06/data/listings.csv.gz',\n",
    " 'https://data.insideairbnb.com/united-states/fl/broward-county/2024-09-23/data/listings.csv.gz',\n",
    " 'https://data.insideairbnb.com/argentina/ciudad-autónoma-de-buenos-aires/buenos-aires/2024-11-29/data/listings.csv.gz',\n",
    " 'https://data.insideairbnb.com/south-africa/wc/cape-town/2024-09-25/data/listings.csv.gz',\n",
    " 'https://data.insideairbnb.com/united-states/nv/clark-county-nv/2024-09-18/data/listings.csv.gz',\n",
    " 'https://data.insideairbnb.com/denmark/hovedstaden/copenhagen/2024-09-28/data/listings.csv.gz',\n",
    " 'https://data.insideairbnb.com/greece/crete/crete/2024-09-26/data/listings.csv.gz',\n",
    " 'https://data.insideairbnb.com/spain/catalonia/girona/2024-09-29/data/listings.csv.gz',\n",
    " 'https://data.insideairbnb.com/united-states/hi/hawaii/2024-09-13/data/listings.csv.gz',\n",
    " 'https://data.insideairbnb.com/turkey/marmara/istanbul/2024-09-28/data/listings.csv.gz',\n",
    " 'https://data.insideairbnb.com/portugal/lisbon/lisbon/2024-09-14/data/listings.csv.gz',\n",
    " 'https://data.insideairbnb.com/united-kingdom/england/london/2024-09-06/data/listings.csv.gz',\n",
    " 'https://data.insideairbnb.com/united-states/ca/los-angeles/2024-09-04/data/listings.csv.gz',\n",
    " 'https://data.insideairbnb.com/spain/comunidad-de-madrid/madrid/2024-09-11/data/listings.csv.gz',\n",
    " 'https://data.insideairbnb.com/spain/islas-baleares/mallorca/2024-09-13/data/listings.csv.gz',\n",
    " 'https://data.insideairbnb.com/australia/vic/melbourne/2024-09-05/data/listings.csv.gz',\n",
    " 'https://data.insideairbnb.com/mexico/df/mexico-city/2024-09-25/data/listings.csv.gz',\n",
    " 'https://data.insideairbnb.com/italy/lombardy/milan/2024-09-17/data/listings.csv.gz',\n",
    " 'https://data.insideairbnb.com/united-states/ny/new-york-city/2024-11-04/data/listings.csv.gz',\n",
    " 'https://data.insideairbnb.com/france/ile-de-france/paris/2024-09-06/data/listings.csv.gz',\n",
    " 'https://data.insideairbnb.com/italy/puglia/puglia/2024-09-29/data/listings.csv.gz',\n",
    " 'https://data.insideairbnb.com/brazil/rj/rio-de-janeiro/2024-09-25/data/listings.csv.gz',\n",
    " 'https://data.insideairbnb.com/italy/lazio/rome/2024-09-11/data/listings.csv.gz',\n",
    " 'https://data.insideairbnb.com/italy/sicilia/sicily/2024-09-28/data/listings.csv.gz',\n",
    " 'https://data.insideairbnb.com/greece/south-aegean/south-aegean/2024-09-20/data/listings.csv.gz',\n",
    " 'https://data.insideairbnb.com/australia/nsw/sydney/2024-09-05/data/listings.csv.gz',\n",
    " 'https://data.insideairbnb.com/japan/kantō/tokyo/2024-09-27/data/listings.csv.gz',\n",
    " 'https://data.insideairbnb.com/canada/on/toronto/2024-11-07/data/listings.csv.gz']\n",
    "\n",
    "# Import libraries\n",
    "import wget\n",
    "import os\n",
    "\n",
    "for url in urls_clean:\n",
    "  url_split = url.split(\"/\")\n",
    "  if url_split[5] == 'data':\n",
    "    print(f'{url}\\n - skipped')\n",
    "    continue\n",
    "  city = url_split[3] if url_split[5] == 'data' else url_split[5]\n",
    "  out_dir = f\"airbnb_data/{city}\"\n",
    "  os.makedirs(out_dir, exist_ok=False)\n",
    "  print(f\"{url}\\n - downloaded to: {out_dir}/{url_split[-1]}\")\n",
    "  filename = wget.download(url, out=f\"{out_dir}/{url_split[-1]}\")"
   ]
  },
  {
   "cell_type": "code",
   "execution_count": 8,
   "metadata": {
    "colab": {
     "base_uri": "https://localhost:8080/"
    },
    "executionInfo": {
     "elapsed": 255,
     "status": "ok",
     "timestamp": 1734102638479,
     "user": {
      "displayName": "Patryk Nowicki",
      "userId": "04245611520472912421"
     },
     "user_tz": -60
    },
    "id": "vkIvBgKShpdA",
    "outputId": "eea46917-d384-455f-c26c-b50aec758a76"
   },
   "outputs": [
    {
     "name": "stdout",
     "output_type": "stream",
     "text": [
      "\u001b[34maustin\u001b[m\u001b[m          \u001b[34mclark-county-nv\u001b[m\u001b[m \u001b[34mlisbon\u001b[m\u001b[m          \u001b[34mmexico-city\u001b[m\u001b[m     \u001b[34mrome\u001b[m\u001b[m\n",
      "\u001b[34mbangkok\u001b[m\u001b[m         \u001b[34mcopenhagen\u001b[m\u001b[m      \u001b[34mlondon\u001b[m\u001b[m          \u001b[34mmilan\u001b[m\u001b[m           \u001b[34msicily\u001b[m\u001b[m\n",
      "\u001b[34mbarcelona\u001b[m\u001b[m       \u001b[34mcrete\u001b[m\u001b[m           \u001b[34mlos-angeles\u001b[m\u001b[m     \u001b[34mnew-york-city\u001b[m\u001b[m   \u001b[34msouth-aegean\u001b[m\u001b[m\n",
      "\u001b[34mbroward-county\u001b[m\u001b[m  \u001b[34mgirona\u001b[m\u001b[m          \u001b[34mmadrid\u001b[m\u001b[m          \u001b[34mparis\u001b[m\u001b[m           \u001b[34msydney\u001b[m\u001b[m\n",
      "\u001b[34mbuenos-aires\u001b[m\u001b[m    \u001b[34mhawaii\u001b[m\u001b[m          \u001b[34mmallorca\u001b[m\u001b[m        \u001b[34mpuglia\u001b[m\u001b[m          \u001b[34mtokyo\u001b[m\u001b[m\n",
      "\u001b[34mcape-town\u001b[m\u001b[m       \u001b[34mistanbul\u001b[m\u001b[m        \u001b[34mmelbourne\u001b[m\u001b[m       \u001b[34mrio-de-janeiro\u001b[m\u001b[m  \u001b[34mtoronto\u001b[m\u001b[m\n"
     ]
    }
   ],
   "source": [
    "# Print list of folders and files in current dir\n",
    "!ls airbnb_data"
   ]
  },
  {
   "cell_type": "code",
   "execution_count": 10,
   "metadata": {
    "colab": {
     "base_uri": "https://localhost:8080/"
    },
    "executionInfo": {
     "elapsed": 251,
     "status": "ok",
     "timestamp": 1734102639975,
     "user": {
      "displayName": "Patryk Nowicki",
      "userId": "04245611520472912421"
     },
     "user_tz": -60
    },
    "id": "YDxblzuZiNob",
    "outputId": "c0a7a793-9435-4e3a-fedf-7d1d5914b7a8"
   },
   "outputs": [
    {
     "name": "stdout",
     "output_type": "stream",
     "text": [
      "9.5M\tairbnb_data/barcelona\n",
      " 49M\tairbnb_data/paris\n",
      "9.5M\tairbnb_data/broward-county\n",
      " 13M\tairbnb_data/milan\n",
      "8.5M\tairbnb_data/austin\n",
      " 14M\tairbnb_data/melbourne\n",
      "7.4M\tairbnb_data/clark-county-nv\n",
      " 23M\tairbnb_data/puglia\n",
      "9.2M\tairbnb_data/mallorca\n",
      " 11M\tairbnb_data/tokyo\n",
      " 19M\tairbnb_data/new-york-city\n",
      " 12M\tairbnb_data/istanbul\n",
      "9.9M\tairbnb_data/sydney\n",
      " 13M\tairbnb_data/lisbon\n",
      " 13M\tairbnb_data/cape-town\n",
      " 14M\tairbnb_data/madrid\n",
      " 19M\tairbnb_data/rio-de-janeiro\n",
      " 15M\tairbnb_data/crete\n",
      " 14M\tairbnb_data/mexico-city\n",
      " 11M\tairbnb_data/girona\n",
      " 11M\tairbnb_data/toronto\n",
      " 19M\tairbnb_data/hawaii\n",
      " 49M\tairbnb_data/london\n",
      " 27M\tairbnb_data/los-angeles\n",
      " 29M\tairbnb_data/sicily\n",
      " 19M\tairbnb_data/rome\n",
      " 17M\tairbnb_data/south-aegean\n",
      " 10M\tairbnb_data/copenhagen\n",
      " 12M\tairbnb_data/bangkok\n",
      " 19M\tairbnb_data/buenos-aires\n",
      "506M\tairbnb_data\n"
     ]
    }
   ],
   "source": [
    "# Check folders/files size\n",
    "!du -h airbnb_data"
   ]
  },
  {
   "cell_type": "markdown",
   "metadata": {
    "id": "CO_Yyyp_Es4N"
   },
   "source": [
    "# Data import"
   ]
  },
  {
   "cell_type": "markdown",
   "metadata": {
    "id": "u1t45KsyFjc0"
   },
   "source": [
    "## Spark"
   ]
  },
  {
   "cell_type": "code",
   "execution_count": 14,
   "metadata": {
    "id": "Ei3BobM4pfu3"
   },
   "outputs": [
    {
     "name": "stderr",
     "output_type": "stream",
     "text": [
      "Setting default log level to \"WARN\".\n",
      "To adjust logging level use sc.setLogLevel(newLevel). For SparkR, use setLogLevel(newLevel).\n",
      "25/01/23 17:22:46 WARN NativeCodeLoader: Unable to load native-hadoop library for your platform... using builtin-java classes where applicable\n"
     ]
    }
   ],
   "source": [
    "# Install pyspark\n",
    "!pip install pyspark -qq\n",
    "\n",
    "# Import package and setup local spark session\n",
    "from pyspark.sql import SparkSession\n",
    "spark = SparkSession.builder.master(\"local[*]\").getOrCreate()"
   ]
  },
  {
   "cell_type": "code",
   "execution_count": 16,
   "metadata": {
    "id": "ZUm_0o7Zrksu"
   },
   "outputs": [
    {
     "name": "stderr",
     "output_type": "stream",
     "text": [
      "                                                                                \r"
     ]
    }
   ],
   "source": [
    "# Read data - in spark we can define only regular expresion like in dir\n",
    "# there is no need to refer to each file\n",
    "listings_df_raw = spark.read.option('multiLine', 'True')\\\n",
    "    .option('escape', '\"').option(\"mode\", \"DROPMALFORMED\")\\\n",
    "    .csv('airbnb_data/*/*.gz', header=True, inferSchema = True)"
   ]
  },
  {
   "cell_type": "code",
   "execution_count": 18,
   "metadata": {
    "colab": {
     "base_uri": "https://localhost:8080/"
    },
    "executionInfo": {
     "elapsed": 4453,
     "status": "ok",
     "timestamp": 1734102699762,
     "user": {
      "displayName": "Patryk Nowicki",
      "userId": "04245611520472912421"
     },
     "user_tz": -60
    },
    "id": "nhx2UQIUP3j9",
    "outputId": "3e93934d-2226-4013-bd96-f3a9f1f4fbb4"
   },
   "outputs": [
    {
     "name": "stderr",
     "output_type": "stream",
     "text": [
      "[Stage 2:====================================================>     (9 + 1) / 10]\r"
     ]
    },
    {
     "name": "stdout",
     "output_type": "stream",
     "text": [
      "Number of rows: 976524\n"
     ]
    },
    {
     "name": "stderr",
     "output_type": "stream",
     "text": [
      "                                                                                \r"
     ]
    }
   ],
   "source": [
    "num_rows = listings_df_raw.count()\n",
    "print(f\"Number of rows: {num_rows}\")"
   ]
  },
  {
   "cell_type": "code",
   "execution_count": 20,
   "metadata": {
    "colab": {
     "base_uri": "https://localhost:8080/",
     "height": 206
    },
    "executionInfo": {
     "elapsed": 4743,
     "status": "ok",
     "timestamp": 1734102704468,
     "user": {
      "displayName": "Patryk Nowicki",
      "userId": "04245611520472912421"
     },
     "user_tz": -60
    },
    "id": "IBQPUq6Aqp22",
    "outputId": "ab8c7c56-1718-4063-981b-8515178b7993"
   },
   "outputs": [
    {
     "name": "stderr",
     "output_type": "stream",
     "text": [
      "                                                                                \r"
     ]
    },
    {
     "data": {
      "text/html": [
       "<div>\n",
       "<style scoped>\n",
       "    .dataframe tbody tr th:only-of-type {\n",
       "        vertical-align: middle;\n",
       "    }\n",
       "\n",
       "    .dataframe tbody tr th {\n",
       "        vertical-align: top;\n",
       "    }\n",
       "\n",
       "    .dataframe thead th {\n",
       "        text-align: right;\n",
       "    }\n",
       "</style>\n",
       "<table border=\"1\" class=\"dataframe\">\n",
       "  <thead>\n",
       "    <tr style=\"text-align: right;\">\n",
       "      <th></th>\n",
       "      <th>input_file</th>\n",
       "      <th>count</th>\n",
       "    </tr>\n",
       "  </thead>\n",
       "  <tbody>\n",
       "    <tr>\n",
       "      <th>0</th>\n",
       "      <td>file:///Users/michalkoperski/Downloads/aaa/air...</td>\n",
       "      <td>95461</td>\n",
       "    </tr>\n",
       "    <tr>\n",
       "      <th>1</th>\n",
       "      <td>file:///Users/michalkoperski/Downloads/aaa/air...</td>\n",
       "      <td>96182</td>\n",
       "    </tr>\n",
       "    <tr>\n",
       "      <th>2</th>\n",
       "      <td>file:///Users/michalkoperski/Downloads/aaa/air...</td>\n",
       "      <td>45533</td>\n",
       "    </tr>\n",
       "    <tr>\n",
       "      <th>3</th>\n",
       "      <td>file:///Users/michalkoperski/Downloads/aaa/air...</td>\n",
       "      <td>60515</td>\n",
       "    </tr>\n",
       "    <tr>\n",
       "      <th>4</th>\n",
       "      <td>file:///Users/michalkoperski/Downloads/aaa/air...</td>\n",
       "      <td>35443</td>\n",
       "    </tr>\n",
       "    <tr>\n",
       "      <th>5</th>\n",
       "      <td>file:///Users/michalkoperski/Downloads/aaa/air...</td>\n",
       "      <td>48818</td>\n",
       "    </tr>\n",
       "    <tr>\n",
       "      <th>6</th>\n",
       "      <td>file:///Users/michalkoperski/Downloads/aaa/air...</td>\n",
       "      <td>35295</td>\n",
       "    </tr>\n",
       "    <tr>\n",
       "      <th>7</th>\n",
       "      <td>file:///Users/michalkoperski/Downloads/aaa/air...</td>\n",
       "      <td>37548</td>\n",
       "    </tr>\n",
       "    <tr>\n",
       "      <th>8</th>\n",
       "      <td>file:///Users/michalkoperski/Downloads/aaa/air...</td>\n",
       "      <td>34061</td>\n",
       "    </tr>\n",
       "    <tr>\n",
       "      <th>9</th>\n",
       "      <td>file:///Users/michalkoperski/Downloads/aaa/air...</td>\n",
       "      <td>36967</td>\n",
       "    </tr>\n",
       "    <tr>\n",
       "      <th>10</th>\n",
       "      <td>file:///Users/michalkoperski/Downloads/aaa/air...</td>\n",
       "      <td>34894</td>\n",
       "    </tr>\n",
       "    <tr>\n",
       "      <th>11</th>\n",
       "      <td>file:///Users/michalkoperski/Downloads/aaa/air...</td>\n",
       "      <td>26980</td>\n",
       "    </tr>\n",
       "    <tr>\n",
       "      <th>12</th>\n",
       "      <td>file:///Users/michalkoperski/Downloads/aaa/air...</td>\n",
       "      <td>26422</td>\n",
       "    </tr>\n",
       "    <tr>\n",
       "      <th>13</th>\n",
       "      <td>file:///Users/michalkoperski/Downloads/aaa/air...</td>\n",
       "      <td>25089</td>\n",
       "    </tr>\n",
       "    <tr>\n",
       "      <th>14</th>\n",
       "      <td>file:///Users/michalkoperski/Downloads/aaa/air...</td>\n",
       "      <td>23705</td>\n",
       "    </tr>\n",
       "    <tr>\n",
       "      <th>15</th>\n",
       "      <td>file:///Users/michalkoperski/Downloads/aaa/air...</td>\n",
       "      <td>24389</td>\n",
       "    </tr>\n",
       "    <tr>\n",
       "      <th>16</th>\n",
       "      <td>file:///Users/michalkoperski/Downloads/aaa/air...</td>\n",
       "      <td>26582</td>\n",
       "    </tr>\n",
       "    <tr>\n",
       "      <th>17</th>\n",
       "      <td>file:///Users/michalkoperski/Downloads/aaa/air...</td>\n",
       "      <td>24204</td>\n",
       "    </tr>\n",
       "    <tr>\n",
       "      <th>18</th>\n",
       "      <td>file:///Users/michalkoperski/Downloads/aaa/air...</td>\n",
       "      <td>18736</td>\n",
       "    </tr>\n",
       "    <tr>\n",
       "      <th>19</th>\n",
       "      <td>file:///Users/michalkoperski/Downloads/aaa/air...</td>\n",
       "      <td>21443</td>\n",
       "    </tr>\n",
       "    <tr>\n",
       "      <th>20</th>\n",
       "      <td>file:///Users/michalkoperski/Downloads/aaa/air...</td>\n",
       "      <td>25079</td>\n",
       "    </tr>\n",
       "    <tr>\n",
       "      <th>21</th>\n",
       "      <td>file:///Users/michalkoperski/Downloads/aaa/air...</td>\n",
       "      <td>29101</td>\n",
       "    </tr>\n",
       "    <tr>\n",
       "      <th>22</th>\n",
       "      <td>file:///Users/michalkoperski/Downloads/aaa/air...</td>\n",
       "      <td>21971</td>\n",
       "    </tr>\n",
       "    <tr>\n",
       "      <th>23</th>\n",
       "      <td>file:///Users/michalkoperski/Downloads/aaa/air...</td>\n",
       "      <td>17278</td>\n",
       "    </tr>\n",
       "    <tr>\n",
       "      <th>24</th>\n",
       "      <td>file:///Users/michalkoperski/Downloads/aaa/air...</td>\n",
       "      <td>21528</td>\n",
       "    </tr>\n",
       "    <tr>\n",
       "      <th>25</th>\n",
       "      <td>file:///Users/michalkoperski/Downloads/aaa/air...</td>\n",
       "      <td>16228</td>\n",
       "    </tr>\n",
       "    <tr>\n",
       "      <th>26</th>\n",
       "      <td>file:///Users/michalkoperski/Downloads/aaa/air...</td>\n",
       "      <td>15244</td>\n",
       "    </tr>\n",
       "    <tr>\n",
       "      <th>27</th>\n",
       "      <td>file:///Users/michalkoperski/Downloads/aaa/air...</td>\n",
       "      <td>16950</td>\n",
       "    </tr>\n",
       "    <tr>\n",
       "      <th>28</th>\n",
       "      <td>file:///Users/michalkoperski/Downloads/aaa/air...</td>\n",
       "      <td>19482</td>\n",
       "    </tr>\n",
       "    <tr>\n",
       "      <th>29</th>\n",
       "      <td>file:///Users/michalkoperski/Downloads/aaa/air...</td>\n",
       "      <td>15396</td>\n",
       "    </tr>\n",
       "  </tbody>\n",
       "</table>\n",
       "</div>"
      ],
      "text/plain": [
       "                                           input_file  count\n",
       "0   file:///Users/michalkoperski/Downloads/aaa/air...  95461\n",
       "1   file:///Users/michalkoperski/Downloads/aaa/air...  96182\n",
       "2   file:///Users/michalkoperski/Downloads/aaa/air...  45533\n",
       "3   file:///Users/michalkoperski/Downloads/aaa/air...  60515\n",
       "4   file:///Users/michalkoperski/Downloads/aaa/air...  35443\n",
       "5   file:///Users/michalkoperski/Downloads/aaa/air...  48818\n",
       "6   file:///Users/michalkoperski/Downloads/aaa/air...  35295\n",
       "7   file:///Users/michalkoperski/Downloads/aaa/air...  37548\n",
       "8   file:///Users/michalkoperski/Downloads/aaa/air...  34061\n",
       "9   file:///Users/michalkoperski/Downloads/aaa/air...  36967\n",
       "10  file:///Users/michalkoperski/Downloads/aaa/air...  34894\n",
       "11  file:///Users/michalkoperski/Downloads/aaa/air...  26980\n",
       "12  file:///Users/michalkoperski/Downloads/aaa/air...  26422\n",
       "13  file:///Users/michalkoperski/Downloads/aaa/air...  25089\n",
       "14  file:///Users/michalkoperski/Downloads/aaa/air...  23705\n",
       "15  file:///Users/michalkoperski/Downloads/aaa/air...  24389\n",
       "16  file:///Users/michalkoperski/Downloads/aaa/air...  26582\n",
       "17  file:///Users/michalkoperski/Downloads/aaa/air...  24204\n",
       "18  file:///Users/michalkoperski/Downloads/aaa/air...  18736\n",
       "19  file:///Users/michalkoperski/Downloads/aaa/air...  21443\n",
       "20  file:///Users/michalkoperski/Downloads/aaa/air...  25079\n",
       "21  file:///Users/michalkoperski/Downloads/aaa/air...  29101\n",
       "22  file:///Users/michalkoperski/Downloads/aaa/air...  21971\n",
       "23  file:///Users/michalkoperski/Downloads/aaa/air...  17278\n",
       "24  file:///Users/michalkoperski/Downloads/aaa/air...  21528\n",
       "25  file:///Users/michalkoperski/Downloads/aaa/air...  16228\n",
       "26  file:///Users/michalkoperski/Downloads/aaa/air...  15244\n",
       "27  file:///Users/michalkoperski/Downloads/aaa/air...  16950\n",
       "28  file:///Users/michalkoperski/Downloads/aaa/air...  19482\n",
       "29  file:///Users/michalkoperski/Downloads/aaa/air...  15396"
      ]
     },
     "execution_count": 20,
     "metadata": {},
     "output_type": "execute_result"
    }
   ],
   "source": [
    "# Check nuber of rows per input file\n",
    "from pyspark.sql.functions import input_file_name\n",
    "listings_df_raw.withColumn(\"input_file\", input_file_name()).groupBy(['input_file']).count().toPandas()"
   ]
  },
  {
   "cell_type": "code",
   "execution_count": 22,
   "metadata": {
    "colab": {
     "base_uri": "https://localhost:8080/"
    },
    "executionInfo": {
     "elapsed": 219,
     "status": "ok",
     "timestamp": 1734097453355,
     "user": {
      "displayName": "Patryk Nowicki",
      "userId": "04245611520472912421"
     },
     "user_tz": -60
    },
    "id": "bBW74UiWAmFL",
    "outputId": "da2e5b2f-7069-4ea0-bb60-c961c6435d31"
   },
   "outputs": [
    {
     "name": "stdout",
     "output_type": "stream",
     "text": [
      "['id', 'listing_url', 'scrape_id', 'last_scraped', 'source', 'name', 'description', 'neighborhood_overview', 'picture_url', 'host_id', 'host_url', 'host_name', 'host_since', 'host_location', 'host_about', 'host_response_time', 'host_response_rate', 'host_acceptance_rate', 'host_is_superhost', 'host_thumbnail_url', 'host_picture_url', 'host_neighbourhood', 'host_listings_count', 'host_total_listings_count', 'host_verifications', 'host_has_profile_pic', 'host_identity_verified', 'neighbourhood', 'neighbourhood_cleansed', 'neighbourhood_group_cleansed', 'latitude', 'longitude', 'property_type', 'room_type', 'accommodates', 'bathrooms', 'bathrooms_text', 'bedrooms', 'beds', 'amenities', 'price', 'minimum_nights', 'maximum_nights', 'minimum_minimum_nights', 'maximum_minimum_nights', 'minimum_maximum_nights', 'maximum_maximum_nights', 'minimum_nights_avg_ntm', 'maximum_nights_avg_ntm', 'calendar_updated', 'has_availability', 'availability_30', 'availability_60', 'availability_90', 'availability_365', 'calendar_last_scraped', 'number_of_reviews', 'number_of_reviews_ltm', 'number_of_reviews_l30d', 'first_review', 'last_review', 'review_scores_rating', 'review_scores_accuracy', 'review_scores_cleanliness', 'review_scores_checkin', 'review_scores_communication', 'review_scores_location', 'review_scores_value', 'license', 'instant_bookable', 'calculated_host_listings_count', 'calculated_host_listings_count_entire_homes', 'calculated_host_listings_count_private_rooms', 'calculated_host_listings_count_shared_rooms', 'reviews_per_month']\n"
     ]
    }
   ],
   "source": [
    "# Print list of columns\n",
    "print(listings_df_raw.columns)"
   ]
  },
  {
   "cell_type": "code",
   "execution_count": 24,
   "metadata": {
    "colab": {
     "base_uri": "https://localhost:8080/"
    },
    "executionInfo": {
     "elapsed": 198,
     "status": "ok",
     "timestamp": 1734097460539,
     "user": {
      "displayName": "Patryk Nowicki",
      "userId": "04245611520472912421"
     },
     "user_tz": -60
    },
    "id": "bWIVXObfBJSn",
    "outputId": "b24dd6b7-cc51-4b92-dbb9-08f9dce4b8e3"
   },
   "outputs": [
    {
     "name": "stdout",
     "output_type": "stream",
     "text": [
      "+--------------------+----------------------+----------------------------+----------------+---------------+---------------+---------------+----------------+-------+\n",
      "|       neighbourhood|neighbourhood_cleansed|neighbourhood_group_cleansed|has_availability|availability_30|availability_60|availability_90|availability_365|  price|\n",
      "+--------------------+----------------------+----------------------------+----------------+---------------+---------------+---------------+----------------+-------+\n",
      "|Neighborhood high...|          Observatoire|                        NULL|               t|              6|             20|             35|             297|$113.00|\n",
      "|Neighborhood high...|        Hôtel-de-Ville|                        NULL|               t|              3|             24|             54|              77| $95.00|\n",
      "|                NULL|        Hôtel-de-Ville|                        NULL|               t|              6|             30|             49|             316|$145.00|\n",
      "|                NULL|                 Opéra|                        NULL|               t|              0|              0|              0|               0|   NULL|\n",
      "|Neighborhood high...|       Buttes-Chaumont|                        NULL|               t|             23|             53|             83|             173|$450.00|\n",
      "|                NULL|                Élysée|                        NULL|               t|              0|              0|              0|               0|   NULL|\n",
      "|Neighborhood high...|                 Opéra|                        NULL|               t|              0|              0|              0|               0|   NULL|\n",
      "|Neighborhood high...|              Entrepôt|                        NULL|               t|              0|              0|              0|               0|   NULL|\n",
      "|                NULL|                Louvre|                        NULL|               t|             23|             53|             83|             358| $75.00|\n",
      "|Neighborhood high...|            Popincourt|                        NULL|               t|              5|              7|              7|             183|$246.00|\n",
      "+--------------------+----------------------+----------------------------+----------------+---------------+---------------+---------------+----------------+-------+\n",
      "only showing top 10 rows\n",
      "\n"
     ]
    }
   ],
   "source": [
    "# Show top 10 rows of selected columns\n",
    "listings_df_raw.select('neighbourhood', 'neighbourhood_cleansed', 'neighbourhood_group_cleansed','has_availability','availability_30','availability_60', 'availability_90', 'availability_365','price').show(10)"
   ]
  },
  {
   "cell_type": "code",
   "execution_count": 26,
   "metadata": {
    "colab": {
     "base_uri": "https://localhost:8080/"
    },
    "executionInfo": {
     "elapsed": 252,
     "status": "ok",
     "timestamp": 1734097480487,
     "user": {
      "displayName": "Patryk Nowicki",
      "userId": "04245611520472912421"
     },
     "user_tz": -60
    },
    "id": "4MCa1hmRAiPG",
    "outputId": "63052e3a-d806-4578-ba1b-d383070a9fd5"
   },
   "outputs": [
    {
     "name": "stderr",
     "output_type": "stream",
     "text": [
      "25/01/23 17:23:59 WARN SparkStringUtils: Truncated the string representation of a plan since it was too large. This behavior can be adjusted by setting 'spark.sql.debug.maxToStringFields'.\n"
     ]
    },
    {
     "data": {
      "text/plain": [
       "[Row(id=3109, listing_url='https://www.airbnb.com/rooms/3109', scrape_id=20240906025355, last_scraped=datetime.date(2024, 9, 11), source='city scrape', name='zen and calm', description='Lovely Appartment with one bedroom with a Queen size bed.<br />Calm et bright<br />Sheets and towels furnished<br />4th floor, no elevator', neighborhood_overview='Good restaurants<br />very close the Montparnasse Station<br />15 m from the center of Paris', picture_url='https://a0.muscache.com/pictures/miso/Hosting-3109/original/50c69430-6385-413b-8a65-f6c022912301.jpeg', host_id=3631, host_url='https://www.airbnb.com/users/show/3631', host_name='Anne', host_since=datetime.date(2008, 10, 14), host_location='Paris, France', host_about=None, host_response_time='N/A', host_response_rate='N/A', host_acceptance_rate='67%', host_is_superhost='f', host_thumbnail_url='https://a0.muscache.com/im/users/3631/profile_pic/1375800198/original.jpg?aki_policy=profile_small', host_picture_url='https://a0.muscache.com/im/users/3631/profile_pic/1375800198/original.jpg?aki_policy=profile_x_medium', host_neighbourhood='Alésia', host_listings_count=1, host_total_listings_count=1, host_verifications=\"['email', 'phone']\", host_has_profile_pic='t', host_identity_verified='t', neighbourhood='Neighborhood highlights', neighbourhood_cleansed='Observatoire', neighbourhood_group_cleansed=None, latitude=48.83191, longitude=2.3187, property_type='Entire rental unit', room_type='Entire home/apt', accommodates=2, bathrooms=1.0, bathrooms_text='1 bath', bedrooms=1, beds=1, amenities='[\"Cooking basics\", \"Luggage dropoff allowed\", \"Iron\", \"Smart lock\", \"Smoke alarm\", \"Dishes and silverware\", \"Washer\", \"Self check-in\", \"Hangers\", \"Wifi\", \"Children\\\\u2019s books and toys\", \"Hot water\", \"Paid parking off premises\", \"Hair dryer\", \"Kitchen\"]', price='$113.00', minimum_nights=2, maximum_nights=30, minimum_minimum_nights=2, maximum_minimum_nights=2, minimum_maximum_nights=30, maximum_maximum_nights=30, minimum_nights_avg_ntm=2.0, maximum_nights_avg_ntm=30.0, calendar_updated=None, has_availability='t', availability_30=6, availability_60=20, availability_90=35, availability_365=297, calendar_last_scraped=datetime.date(2024, 9, 11), number_of_reviews=4, number_of_reviews_ltm=0, number_of_reviews_l30d=0, first_review=datetime.date(2017, 10, 28), last_review=datetime.date(2019, 10, 24), review_scores_rating=5.0, review_scores_accuracy=5.0, review_scores_cleanliness=5.0, review_scores_checkin=5.0, review_scores_communication=5.0, review_scores_location=5.0, review_scores_value=5.0, license='7511409139079', instant_bookable='t', calculated_host_listings_count=1, calculated_host_listings_count_entire_homes=1, calculated_host_listings_count_private_rooms=0, calculated_host_listings_count_shared_rooms=0, reviews_per_month=0.05),\n",
       " Row(id=5396, listing_url='https://www.airbnb.com/rooms/5396', scrape_id=20240906025355, last_scraped=datetime.date(2024, 9, 13), source='city scrape', name='Your perfect Paris studio on Île Saint-Louis', description=\"NEW SOFA-BED SINCE JUNE 2023, Please disregard reviews about the old one.<br /><br />Cozy, well-appointed and graciously designed studio apartment that mixes old and new aesthetics at the very heart of Paris, on the famous Isle St Louis that is a stone's throw from Le Marais, Quartier Latin, Notre Dame and Le Louvre.\", neighborhood_overview='You are within walking distance to the Louvre, Notre Dame, Le Marais, Les Halles, Chatelet, St. Germain, Les Tuileries, le Jardin des Plantes, St. Michel, Sorbonne, Institut du Monde Arab, the Bastille and the Latin Quarter. <br />', picture_url='https://a0.muscache.com/pictures/52413/f9bf76f5_original.jpg', host_id=7903, host_url='https://www.airbnb.com/users/show/7903', host_name='Borzou', host_since=datetime.date(2009, 2, 14), host_location='Paris, France', host_about=\"We have spent a lot of time traveling for work and leisure. We understand what travelers need when they're away from home. Guillaume and his partners manage arrivals and checkins, adding a friendly touch to every  visit. We all genuinely love Paris and try to make it easy for people to come and visit the city.\", host_response_time='within an hour', host_response_rate='100%', host_acceptance_rate='94%', host_is_superhost=None, host_thumbnail_url='https://a0.muscache.com/im/users/7903/profile_pic/1280002723/original.jpg?aki_policy=profile_small', host_picture_url='https://a0.muscache.com/im/users/7903/profile_pic/1280002723/original.jpg?aki_policy=profile_x_medium', host_neighbourhood='Saint-Paul - Ile Saint-Louis', host_listings_count=2, host_total_listings_count=4, host_verifications=\"['email', 'phone']\", host_has_profile_pic='t', host_identity_verified='t', neighbourhood='Neighborhood highlights', neighbourhood_cleansed='Hôtel-de-Ville', neighbourhood_group_cleansed=None, latitude=48.85247, longitude=2.35835, property_type='Entire rental unit', room_type='Entire home/apt', accommodates=2, bathrooms=1.0, bathrooms_text='1 bath', bedrooms=0, beds=1, amenities='[\"Hot water\", \"Stove\", \"Fire extinguisher\", \"Oven\", \"Cleaning products\", \"Dishes and silverware\", \"Body soap\", \"Washer\", \"Host greets you\", \"Iron\", \"Wifi\", \"Portable fans\", \"Shampoo\", \"Kitchen\", \"Essentials\", \"Hot water kettle\", \"Pets allowed\", \"Toaster\", \"Coffee\", \"Refrigerator\", \"Long term stays allowed\", \"Drying rack for clothing\", \"Smoke alarm\", \"Wine glasses\", \"Bed linens\", \"Shower gel\", \"Hair dryer\", \"Clothing storage: closet\", \"Heating\", \"Books and reading material\", \"Coffee maker: espresso machine, pour-over coffee\", \"Cooking basics\", \"TV with standard cable\", \"First aid kit\", \"Dedicated workspace\", \"Hangers\", \"Baking sheet\", \"Extra pillows and blankets\"]', price='$95.00', minimum_nights=2, maximum_nights=730, minimum_minimum_nights=2, maximum_minimum_nights=2, minimum_maximum_nights=1125, maximum_maximum_nights=1125, minimum_nights_avg_ntm=2.0, maximum_nights_avg_ntm=1125.0, calendar_updated=None, has_availability='t', availability_30=3, availability_60=24, availability_90=54, availability_365=77, calendar_last_scraped=datetime.date(2024, 9, 13), number_of_reviews=413, number_of_reviews_ltm=57, number_of_reviews_l30d=2, first_review=datetime.date(2009, 6, 30), last_review=datetime.date(2024, 9, 1), review_scores_rating=4.61, review_scores_accuracy=4.64, review_scores_cleanliness=4.59, review_scores_checkin=4.81, review_scores_communication=4.84, review_scores_location=4.96, review_scores_value=4.59, license='7510402838018', instant_bookable='f', calculated_host_listings_count=1, calculated_host_listings_count_entire_homes=1, calculated_host_listings_count_private_rooms=0, calculated_host_listings_count_shared_rooms=0, reviews_per_month=2.23),\n",
       " Row(id=7397, listing_url='https://www.airbnb.com/rooms/7397', scrape_id=20240906025355, last_scraped=datetime.date(2024, 9, 6), source='city scrape', name='MARAIS - 2ROOMS APT - 2/4 PEOPLE', description='VERY CONVENIENT, WITH THE BEST LOCATION !', neighborhood_overview=None, picture_url='https://a0.muscache.com/pictures/67928287/330bd78c_original.jpg', host_id=2626, host_url='https://www.airbnb.com/users/show/2626', host_name='Franck', host_since=datetime.date(2008, 8, 30), host_location='Paris, France', host_about='I am a writer,54, author of novels, books of linguistics...', host_response_time='within an hour', host_response_rate='100%', host_acceptance_rate='67%', host_is_superhost='t', host_thumbnail_url='https://a0.muscache.com/im/pictures/user/ad6a9447-d6fa-4b6b-a820-1c5b52cd5359.jpg?aki_policy=profile_small', host_picture_url='https://a0.muscache.com/im/pictures/user/ad6a9447-d6fa-4b6b-a820-1c5b52cd5359.jpg?aki_policy=profile_x_medium', host_neighbourhood='Le Marais', host_listings_count=1, host_total_listings_count=10, host_verifications=\"['email', 'phone']\", host_has_profile_pic='t', host_identity_verified='t', neighbourhood=None, neighbourhood_cleansed='Hôtel-de-Ville', neighbourhood_group_cleansed=None, latitude=48.85909, longitude=2.35315, property_type='Entire rental unit', room_type='Entire home/apt', accommodates=4, bathrooms=1.0, bathrooms_text='1 bath', bedrooms=2, beds=1, amenities='[\"Host greets you\", \"Heating\", \"Refrigerator\", \"Paid parking off premises\", \"Microwave\", \"Shampoo\", \"Smoke alarm\", \"Bed linens\", \"Hot water\", \"Kitchen\", \"Hangers\", \"Hair dryer\", \"Extra pillows and blankets\", \"TV with standard cable\", \"Essentials\", \"Cooking basics\", \"Free washer \\\\u2013 In unit\", \"Oven\", \"Dryer\", \"Iron\", \"Dedicated workspace\", \"Coffee maker\", \"Wifi\", \"Stove\", \"Dishes and silverware\"]', price='$145.00', minimum_nights=10, maximum_nights=130, minimum_minimum_nights=2, maximum_minimum_nights=10, minimum_maximum_nights=130, maximum_maximum_nights=130, minimum_nights_avg_ntm=9.9, maximum_nights_avg_ntm=130.0, calendar_updated=None, has_availability='t', availability_30=6, availability_60=30, availability_90=49, availability_365=316, calendar_last_scraped=datetime.date(2024, 9, 6), number_of_reviews=360, number_of_reviews_ltm=22, number_of_reviews_l30d=1, first_review=datetime.date(2011, 4, 8), last_review=datetime.date(2024, 8, 27), review_scores_rating=4.73, review_scores_accuracy=4.81, review_scores_cleanliness=4.45, review_scores_checkin=4.92, review_scores_communication=4.89, review_scores_location=4.93, review_scores_value=4.74, license='7510400829623', instant_bookable='f', calculated_host_listings_count=1, calculated_host_listings_count_entire_homes=1, calculated_host_listings_count_private_rooms=0, calculated_host_listings_count_shared_rooms=0, reviews_per_month=2.2),\n",
       " Row(id=7964, listing_url='https://www.airbnb.com/rooms/7964', scrape_id=20240906025355, last_scraped=datetime.date(2024, 9, 10), source='previous scrape', name='Sunny apartment with balcony', description='We are renting our a spacious, sunny fully furnished apartment located on a pedestrian street in vibrant neighborhood.<br />Ideal for a couple or a family with a young child.<br /><br />Central location, walking distance to many attractions. <br />-  Nice living room (wifi & TV)<br />-  Master bedroom<br />- Child bedroom<br />- Bathroom with shower and bathtub<br />- Fully furnished kitchen (dishwasher, washing machine & dryer)<br />- Long balcony<br />- Central location & walking distance to many attractions.<br />- Bed linen & towels provided', neighborhood_overview=None, picture_url='https://a0.muscache.com/pictures/miso/Hosting-7964/original/08a6f2fa-0963-42b5-a5d2-0047f04a5db4.jpeg', host_id=22155, host_url='https://www.airbnb.com/users/show/22155', host_name='Anaïs', host_since=datetime.date(2009, 6, 18), host_location='Paris, France', host_about='Hello ! \\r\\nOur apartment is great and I am sure you will love it ! I will be happy to share with you tips and my favourites places to make your stay super nice.', host_response_time='N/A', host_response_rate='N/A', host_acceptance_rate='0%', host_is_superhost='f', host_thumbnail_url='https://a0.muscache.com/im/pictures/user/975c3587-7e98-490e-a35e-b39ed09b8355.jpg?aki_policy=profile_small', host_picture_url='https://a0.muscache.com/im/pictures/user/975c3587-7e98-490e-a35e-b39ed09b8355.jpg?aki_policy=profile_x_medium', host_neighbourhood=\"Gare du Nord - Gare de I'Est\", host_listings_count=1, host_total_listings_count=1, host_verifications=\"['phone']\", host_has_profile_pic='t', host_identity_verified='t', neighbourhood=None, neighbourhood_cleansed='Opéra', neighbourhood_group_cleansed=None, latitude=48.87417, longitude=2.34245, property_type='Entire rental unit', room_type='Entire home/apt', accommodates=3, bathrooms=None, bathrooms_text='1 bath', bedrooms=2, beds=None, amenities='[\"Room-darkening shades\", \"Cooking basics\", \"Stove\", \"Outdoor dining area\", \"Coffee\", \"Children\\\\u2019s books and toys for ages 0-2 years old and 2-5 years old\", \"Dishes and silverware\", \"Dining table\", \"Sun loungers\", \"Dishwasher\", \"Kitchen\", \"Bed linens\", \"Dedicated workspace\", \"Hot water kettle\", \"Hangers\", \"Wifi\", \"Extra pillows and blankets\", \"Private patio or balcony\", \"Drying rack for clothing\", \"Coffee maker: french press\", \"TV with standard cable\", \"Clothing storage: closet\", \"Cleaning products\", \"Wine glasses\", \"Sound system\", \"Books and reading material\", \"Hot water\", \"Essentials\", \"Free washer \\\\u2013 In unit\", \"Heating\", \"Microwave\", \"Baking sheet\", \"Toaster\", \"Refrigerator\", \"Iron\", \"Bathtub\", \"Oven\", \"Free dryer \\\\u2013 In unit\", \"Cleaning available during stay\", \"Pack \\\\u2019n play/Travel crib\", \"Changing table\", \"Freezer\", \"Hair dryer\", \"Outdoor furniture\"]', price=None, minimum_nights=7, maximum_nights=365, minimum_minimum_nights=7, maximum_minimum_nights=7, minimum_maximum_nights=365, maximum_maximum_nights=365, minimum_nights_avg_ntm=7.0, maximum_nights_avg_ntm=365.0, calendar_updated=None, has_availability='t', availability_30=0, availability_60=0, availability_90=0, availability_365=0, calendar_last_scraped=datetime.date(2024, 9, 10), number_of_reviews=5, number_of_reviews_ltm=0, number_of_reviews_l30d=0, first_review=datetime.date(2010, 5, 10), last_review=datetime.date(2015, 9, 14), review_scores_rating=4.8, review_scores_accuracy=5.0, review_scores_cleanliness=5.0, review_scores_checkin=5.0, review_scores_communication=5.0, review_scores_location=5.0, review_scores_value=5.0, license='7510903576564', instant_bookable='f', calculated_host_listings_count=1, calculated_host_listings_count_entire_homes=1, calculated_host_listings_count_private_rooms=0, calculated_host_listings_count_shared_rooms=0, reviews_per_month=0.03),\n",
       " Row(id=241715, listing_url='https://www.airbnb.com/rooms/241715', scrape_id=20240906025355, last_scraped=datetime.date(2024, 9, 11), source='city scrape', name='Big Cosy Appartement with 100 m2 Terrace in Paris', description=\"Come to stay in our unique Parisian flat to enjoy private 100 square meters permaculture terrace full of ripening tomatoes and raspberries : green, fresh and beautiful garden suspended on the 10th floor in Paris 19th. Apartment is big, bright, fully equipped for a cosy stay in Paris. It's close to the iconic Bottes Chaumont 19th century park, as well as to Canal St Martin and La Vilette. Our place is 2min by foot to the metro line 7, which can take you directly to Opera, Châtelet and so on.\", neighborhood_overview=\"The 19th arrondissement of Paris, located in the northeast of the city, is known for its authenticity and dynamic character.  offers a perfect balance between urban life and tranquility. You will discover another way of living in Paris with a cosy neighborhood life around the canal, its peaceful green spaces and its multiple leisure activities!<br /><br />Our appartement is a ten-minute walk from the Parc de la Villette and the Cité des Sciences, the Philharmonie and the Cité de la Musique, 15-minute walk from the Parc des Buttes Chaumont and 5-minute walk from the contemporary art center 104.<br /><br />The Canal de l 'Ourcq is a popular spot for water walks and summer picnics. You can rent a boat, enjoy a drink in one of the colorful cafes at the water edge or take a bike ride up the canal. Buttes-Chaumont park, one of the city's largest green spaces, is a stylish 19th century landscaped garden offering scenic walks and panoramic views of the city. <br />La Villette is a park, but al\", picture_url='https://a0.muscache.com/pictures/miso/Hosting-241715/original/e520c89f-5b1c-4f5e-afc7-6fecf8c8b322.jpeg', host_id=3342097, host_url='https://www.airbnb.com/users/show/3342097', host_name='Iryna', host_since=datetime.date(2012, 8, 22), host_location='Paris, France', host_about=\"I'm Ukrainian-bourn French, leaving in Paris for past 21 years.  I'm quiet, positive, easy-going person with artistic, travel and sport and foodie inclinations. \\n\\nI like : cooking vegan foods, books, nature, dancing, tea, traveling alone, loosing my way in the unknown city and find my way back several hours after, to make future plans and to fix myself goals, listen to the rain while staying inside with a big cup of something hot, to dream etc.\", host_response_time='N/A', host_response_rate='N/A', host_acceptance_rate='N/A', host_is_superhost='f', host_thumbnail_url='https://a0.muscache.com/im/pictures/user/User-3342097/original/755f3fe6-159e-4e5d-a1ff-72bc1a9635dd.jpeg?aki_policy=profile_small', host_picture_url='https://a0.muscache.com/im/pictures/user/User-3342097/original/755f3fe6-159e-4e5d-a1ff-72bc1a9635dd.jpeg?aki_policy=profile_x_medium', host_neighbourhood='Port-Royal', host_listings_count=1, host_total_listings_count=2, host_verifications=\"['email', 'phone', 'work_email']\", host_has_profile_pic='t', host_identity_verified='t', neighbourhood='Neighborhood highlights', neighbourhood_cleansed='Buttes-Chaumont', neighbourhood_group_cleansed=None, latitude=48.8934638, longitude=2.3783407, property_type='Entire rental unit', room_type='Entire home/apt', accommodates=6, bathrooms=1.0, bathrooms_text='1 bath', bedrooms=3, beds=0, amenities='[\"Outdoor dining area\", \"Free parking on premises\", \"Private entrance\", \"Wifi\", \"Garden view\", \"Kitchen\"]', price='$450.00', minimum_nights=5, maximum_nights=120, minimum_minimum_nights=5, maximum_minimum_nights=5, minimum_maximum_nights=120, maximum_maximum_nights=120, minimum_nights_avg_ntm=5.0, maximum_nights_avg_ntm=120.0, calendar_updated=None, has_availability='t', availability_30=23, availability_60=53, availability_90=83, availability_365=173, calendar_last_scraped=datetime.date(2024, 9, 11), number_of_reviews=0, number_of_reviews_ltm=0, number_of_reviews_l30d=0, first_review=None, last_review=None, review_scores_rating=None, review_scores_accuracy=None, review_scores_cleanliness=None, review_scores_checkin=None, review_scores_communication=None, review_scores_location=None, review_scores_value=None, license='7511913070313', instant_bookable='f', calculated_host_listings_count=1, calculated_host_listings_count_entire_homes=1, calculated_host_listings_count_private_rooms=0, calculated_host_listings_count_shared_rooms=0, reviews_per_month=None)]"
      ]
     },
     "execution_count": 26,
     "metadata": {},
     "output_type": "execute_result"
    }
   ],
   "source": [
    "# Take first row form spark DataFrame\n",
    "listings_df_raw.take(5)"
   ]
  },
  {
   "cell_type": "code",
   "execution_count": 29,
   "metadata": {
    "colab": {
     "base_uri": "https://localhost:8080/"
    },
    "executionInfo": {
     "elapsed": 276,
     "status": "ok",
     "timestamp": 1734097483487,
     "user": {
      "displayName": "Patryk Nowicki",
      "userId": "04245611520472912421"
     },
     "user_tz": -60
    },
    "id": "eMuliwV17Zdu",
    "outputId": "70c53904-d4f1-4378-8768-5bd07afa7d47"
   },
   "outputs": [
    {
     "name": "stdout",
     "output_type": "stream",
     "text": [
      "+-------+\n",
      "|  price|\n",
      "+-------+\n",
      "|$113.00|\n",
      "| $95.00|\n",
      "|$145.00|\n",
      "|   NULL|\n",
      "|$450.00|\n",
      "|   NULL|\n",
      "|   NULL|\n",
      "|   NULL|\n",
      "| $75.00|\n",
      "|$246.00|\n",
      "+-------+\n",
      "only showing top 10 rows\n",
      "\n"
     ]
    }
   ],
   "source": [
    "# show first 10\n",
    "listings_df_raw.select('price').show(10)"
   ]
  },
  {
   "cell_type": "code",
   "execution_count": 31,
   "metadata": {
    "id": "-JeqbsZ5LZ_4"
   },
   "outputs": [],
   "source": [
    "listings_df = listings_df_raw.dropna(how='all', subset=['price'])"
   ]
  },
  {
   "cell_type": "code",
   "execution_count": 33,
   "metadata": {
    "colab": {
     "base_uri": "https://localhost:8080/"
    },
    "executionInfo": {
     "elapsed": 38530,
     "status": "ok",
     "timestamp": 1734097559540,
     "user": {
      "displayName": "Patryk Nowicki",
      "userId": "04245611520472912421"
     },
     "user_tz": -60
    },
    "id": "LMcEYBxMRCPQ",
    "outputId": "84b9e7cf-e3c1-4161-ba9c-d540d2501edc"
   },
   "outputs": [
    {
     "name": "stderr",
     "output_type": "stream",
     "text": [
      "[Stage 11:===================================================>     (9 + 1) / 10]\r"
     ]
    },
    {
     "name": "stdout",
     "output_type": "stream",
     "text": [
      "Number of rows: 797480\n"
     ]
    },
    {
     "name": "stderr",
     "output_type": "stream",
     "text": [
      "                                                                                \r"
     ]
    }
   ],
   "source": [
    "num_rows = listings_df.count()\n",
    "print(f\"Number of rows: {num_rows}\")"
   ]
  },
  {
   "cell_type": "code",
   "execution_count": 35,
   "metadata": {
    "colab": {
     "base_uri": "https://localhost:8080/"
    },
    "executionInfo": {
     "elapsed": 206,
     "status": "ok",
     "timestamp": 1734097559730,
     "user": {
      "displayName": "Patryk Nowicki",
      "userId": "04245611520472912421"
     },
     "user_tz": -60
    },
    "id": "aPPqQpwGMg8X",
    "outputId": "9d4906bd-5ae4-490c-84ce-a12ad6873b0b"
   },
   "outputs": [
    {
     "name": "stdout",
     "output_type": "stream",
     "text": [
      "+-------+\n",
      "|  price|\n",
      "+-------+\n",
      "|$113.00|\n",
      "| $95.00|\n",
      "|$145.00|\n",
      "|$450.00|\n",
      "| $75.00|\n",
      "|$246.00|\n",
      "| $80.00|\n",
      "| $75.00|\n",
      "| $80.00|\n",
      "|$124.00|\n",
      "+-------+\n",
      "only showing top 10 rows\n",
      "\n"
     ]
    }
   ],
   "source": [
    "listings_df.select('price').show(10)"
   ]
  },
  {
   "cell_type": "code",
   "execution_count": 37,
   "metadata": {
    "id": "W3th7ZeD77aA"
   },
   "outputs": [
    {
     "name": "stderr",
     "output_type": "stream",
     "text": [
      "<>:3: SyntaxWarning: invalid escape sequence '\\$'\n",
      "<>:3: SyntaxWarning: invalid escape sequence '\\$'\n",
      "/var/folders/3_/b3bf9f593vj02_bzbl0q9s740000gn/T/ipykernel_11036/2866251479.py:3: SyntaxWarning: invalid escape sequence '\\$'\n",
      "  listings_df = listings_df.withColumn('price_new', F.regexp_replace('price', '\\$', ''))\n"
     ]
    }
   ],
   "source": [
    "# change from text to float\n",
    "import pyspark.sql.functions as F\n",
    "listings_df = listings_df.withColumn('price_new', F.regexp_replace('price', '\\$', ''))\n",
    "listings_df = listings_df.withColumn(\"price_new_float\", F.col(\"price_new\").cast(\"float\"))"
   ]
  },
  {
   "cell_type": "code",
   "execution_count": 39,
   "metadata": {
    "colab": {
     "base_uri": "https://localhost:8080/"
    },
    "executionInfo": {
     "elapsed": 743,
     "status": "ok",
     "timestamp": 1734097569950,
     "user": {
      "displayName": "Patryk Nowicki",
      "userId": "04245611520472912421"
     },
     "user_tz": -60
    },
    "id": "IdSt3Ao8Ae6_",
    "outputId": "5bd5d540-b6af-446a-e1c2-b32f186ccd9a"
   },
   "outputs": [
    {
     "name": "stdout",
     "output_type": "stream",
     "text": [
      "+------+--------------------+--------------+------------+-----------+--------------------+--------------------+---------------------+--------------------+-------+--------------------+----------+----------+-------------+--------------------+------------------+------------------+--------------------+-----------------+--------------------+--------------------+--------------------+-------------------+-------------------------+--------------------+--------------------+----------------------+--------------------+----------------------+----------------------------+-----------------+-----------------+------------------+---------------+------------+---------+--------------+--------+----+--------------------+-------+--------------+--------------+----------------------+----------------------+----------------------+----------------------+----------------------+----------------------+----------------+----------------+---------------+---------------+---------------+----------------+---------------------+-----------------+---------------------+----------------------+------------+-----------+--------------------+----------------------+-------------------------+---------------------+---------------------------+----------------------+-------------------+--------------------+----------------+------------------------------+-------------------------------------------+--------------------------------------------+-------------------------------------------+-----------------+---------+---------------+\n",
      "|    id|         listing_url|     scrape_id|last_scraped|     source|                name|         description|neighborhood_overview|         picture_url|host_id|            host_url| host_name|host_since|host_location|          host_about|host_response_time|host_response_rate|host_acceptance_rate|host_is_superhost|  host_thumbnail_url|    host_picture_url|  host_neighbourhood|host_listings_count|host_total_listings_count|  host_verifications|host_has_profile_pic|host_identity_verified|       neighbourhood|neighbourhood_cleansed|neighbourhood_group_cleansed|         latitude|        longitude|     property_type|      room_type|accommodates|bathrooms|bathrooms_text|bedrooms|beds|           amenities|  price|minimum_nights|maximum_nights|minimum_minimum_nights|maximum_minimum_nights|minimum_maximum_nights|maximum_maximum_nights|minimum_nights_avg_ntm|maximum_nights_avg_ntm|calendar_updated|has_availability|availability_30|availability_60|availability_90|availability_365|calendar_last_scraped|number_of_reviews|number_of_reviews_ltm|number_of_reviews_l30d|first_review|last_review|review_scores_rating|review_scores_accuracy|review_scores_cleanliness|review_scores_checkin|review_scores_communication|review_scores_location|review_scores_value|             license|instant_bookable|calculated_host_listings_count|calculated_host_listings_count_entire_homes|calculated_host_listings_count_private_rooms|calculated_host_listings_count_shared_rooms|reviews_per_month|price_new|price_new_float|\n",
      "+------+--------------------+--------------+------------+-----------+--------------------+--------------------+---------------------+--------------------+-------+--------------------+----------+----------+-------------+--------------------+------------------+------------------+--------------------+-----------------+--------------------+--------------------+--------------------+-------------------+-------------------------+--------------------+--------------------+----------------------+--------------------+----------------------+----------------------------+-----------------+-----------------+------------------+---------------+------------+---------+--------------+--------+----+--------------------+-------+--------------+--------------+----------------------+----------------------+----------------------+----------------------+----------------------+----------------------+----------------+----------------+---------------+---------------+---------------+----------------+---------------------+-----------------+---------------------+----------------------+------------+-----------+--------------------+----------------------+-------------------------+---------------------+---------------------------+----------------------+-------------------+--------------------+----------------+------------------------------+-------------------------------------------+--------------------------------------------+-------------------------------------------+-----------------+---------+---------------+\n",
      "|  3109|https://www.airbn...|20240906025355|  2024-09-11|city scrape|        zen and calm|Lovely Appartment...| Good restaurants<...|https://a0.muscac...|   3631|https://www.airbn...|      Anne|2008-10-14|Paris, France|                NULL|               N/A|               N/A|                 67%|                f|https://a0.muscac...|https://a0.muscac...|              Alésia|                  1|                        1|  ['email', 'phone']|                   t|                     t|Neighborhood high...|          Observatoire|                        NULL|         48.83191|           2.3187|Entire rental unit|Entire home/apt|           2|      1.0|        1 bath|       1|   1|[\"Cooking basics\"...|$113.00|             2|            30|                     2|                     2|                    30|                    30|                   2.0|                  30.0|            NULL|               t|              6|             20|             35|             297|           2024-09-11|                4|                    0|                     0|  2017-10-28| 2019-10-24|                 5.0|                   5.0|                      5.0|                  5.0|                        5.0|                   5.0|                5.0|       7511409139079|               t|                             1|                                          1|                                           0|                                          0|             0.05|   113.00|          113.0|\n",
      "|  5396|https://www.airbn...|20240906025355|  2024-09-13|city scrape|Your perfect Pari...|NEW SOFA-BED SINC...| You are within wa...|https://a0.muscac...|   7903|https://www.airbn...|    Borzou|2009-02-14|Paris, France|We have spent a l...|    within an hour|              100%|                 94%|             NULL|https://a0.muscac...|https://a0.muscac...|Saint-Paul - Ile ...|                  2|                        4|  ['email', 'phone']|                   t|                     t|Neighborhood high...|        Hôtel-de-Ville|                        NULL|         48.85247|          2.35835|Entire rental unit|Entire home/apt|           2|      1.0|        1 bath|       0|   1|[\"Hot water\", \"St...| $95.00|             2|           730|                     2|                     2|                  1125|                  1125|                   2.0|                1125.0|            NULL|               t|              3|             24|             54|              77|           2024-09-13|              413|                   57|                     2|  2009-06-30| 2024-09-01|                4.61|                  4.64|                     4.59|                 4.81|                       4.84|                  4.96|               4.59|       7510402838018|               f|                             1|                                          1|                                           0|                                          0|             2.23|    95.00|           95.0|\n",
      "|  7397|https://www.airbn...|20240906025355|  2024-09-06|city scrape|MARAIS - 2ROOMS A...|VERY CONVENIENT, ...|                 NULL|https://a0.muscac...|   2626|https://www.airbn...|    Franck|2008-08-30|Paris, France|I am a writer,54,...|    within an hour|              100%|                 67%|                t|https://a0.muscac...|https://a0.muscac...|           Le Marais|                  1|                       10|  ['email', 'phone']|                   t|                     t|                NULL|        Hôtel-de-Ville|                        NULL|         48.85909|          2.35315|Entire rental unit|Entire home/apt|           4|      1.0|        1 bath|       2|   1|[\"Host greets you...|$145.00|            10|           130|                     2|                    10|                   130|                   130|                   9.9|                 130.0|            NULL|               t|              6|             30|             49|             316|           2024-09-06|              360|                   22|                     1|  2011-04-08| 2024-08-27|                4.73|                  4.81|                     4.45|                 4.92|                       4.89|                  4.93|               4.74|       7510400829623|               f|                             1|                                          1|                                           0|                                          0|              2.2|   145.00|          145.0|\n",
      "|241715|https://www.airbn...|20240906025355|  2024-09-11|city scrape|Big Cosy Appartem...|Come to stay in o...| The 19th arrondis...|https://a0.muscac...|3342097|https://www.airbn...|     Iryna|2012-08-22|Paris, France|I'm Ukrainian-bou...|               N/A|               N/A|                 N/A|                f|https://a0.muscac...|https://a0.muscac...|          Port-Royal|                  1|                        2|['email', 'phone'...|                   t|                     t|Neighborhood high...|       Buttes-Chaumont|                        NULL|       48.8934638|        2.3783407|Entire rental unit|Entire home/apt|           6|      1.0|        1 bath|       3|   0|[\"Outdoor dining ...|$450.00|             5|           120|                     5|                     5|                   120|                   120|                   5.0|                 120.0|            NULL|               t|             23|             53|             83|             173|           2024-09-11|                0|                    0|                     0|        NULL|       NULL|                NULL|                  NULL|                     NULL|                 NULL|                       NULL|                  NULL|               NULL|       7511913070313|               f|                             1|                                          1|                                           0|                                          0|             NULL|   450.00|          450.0|\n",
      "|  9359|https://www.airbn...|20240906025355|  2024-09-13|city scrape|Cozy, Central Par...|Location! Locatio...|                 NULL|https://a0.muscac...|  28422|https://www.airbn...|Bernadette|2009-07-29| New York, NY|I am a Native New...|               N/A|               N/A|                 N/A|                f|https://a0.muscac...|https://a0.muscac...|Châtelet - Les Ha...|                  2|                        4|  ['email', 'phone']|                   t|                     t|                NULL|                Louvre|                        NULL|         48.86006|          2.34863|Entire rental unit|Entire home/apt|           1|      1.0|        1 bath|       1|   1|[\"Wifi\", \"Kitchen...| $75.00|           180|           360|                   180|                   180|                   360|                   360|                 180.0|                 360.0|            NULL|               t|             23|             53|             83|             358|           2024-09-13|                0|                    0|                     0|        NULL|       NULL|                NULL|                  NULL|                     NULL|                 NULL|                       NULL|                  NULL|               NULL|Available with a ...|               f|                             1|                                          1|                                           0|                                          0|             NULL|    75.00|           75.0|\n",
      "|  9952|https://www.airbn...|20240906025355|  2024-09-13|city scrape|Paris petit coin ...|I am a retired la...| Vibrant neighborh...|https://a0.muscac...|  33534|https://www.airbn...| Elisabeth|2009-08-24|Paris, France|Parisienne retrai...|    within an hour|              100%|                 86%|                f|https://a0.muscac...|https://a0.muscac...|          République|                  1|                        1|  ['email', 'phone']|                   t|                     t|Neighborhood high...|            Popincourt|                        NULL|         48.86373|          2.37093|Entire rental unit|Entire home/apt|           2|      1.0|        1 bath|       1|   1|[\"Hot water\", \"St...|$246.00|             4|            31|                     4|                     4|                    31|                    31|                   4.0|                  31.0|            NULL|               t|              5|              7|              7|             183|           2024-09-13|               51|                    3|                     0|  2013-03-19| 2024-05-23|                4.92|                  4.98|                     4.88|                 4.98|                       4.86|                  4.86|                4.9|       7511101582862|               f|                             1|                                          1|                                           0|                                          0|             0.36|   246.00|          246.0|\n",
      "| 10586|https://www.airbn...|20240906025355|  2024-09-06|city scrape| Studio 7 Montmartre|Furnished rental ...| Montmartre, the n...|https://a0.muscac...|  37107|https://www.airbn...|   Michael|2009-09-08|Paris, France|Licensed Californ...|within a few hours|              100%|                 73%|                t|https://a0.muscac...|https://a0.muscac...|          Montmartre|                  3|                        5|  ['email', 'phone']|                   t|                     t|Neighborhood high...|     Buttes-Montmartre|                        NULL|           48.887|          2.34531|Entire rental unit|Entire home/apt|           2|      1.0|        1 bath|       0|   4|[\"Room-darkening ...| $80.00|            30|           300|                    30|                    30|                   300|                   300|                  30.0|                 300.0|            NULL|               t|              0|              0|              0|             165|           2024-09-06|               54|                    3|                     0|  2009-12-20| 2024-07-15|                4.84|                  4.77|                     4.75|                 4.85|                       4.98|                  4.65|               4.67|Available with a ...|               f|                             3|                                          3|                                           0|                                          0|              0.3|    80.00|           80.0|\n",
      "| 10588|https://www.airbn...|20240906025355|  2024-09-13|city scrape|Studio 10 Montmartre|Furnished rental ...| Montmartre, the n...|https://a0.muscac...|  37107|https://www.airbn...|   Michael|2009-09-08|Paris, France|Licensed Californ...|within a few hours|              100%|                 73%|                t|https://a0.muscac...|https://a0.muscac...|          Montmartre|                  3|                        5|  ['email', 'phone']|                   t|                     t|Neighborhood high...|     Buttes-Montmartre|                        NULL|         48.88725|          2.34518|Entire rental unit|Entire home/apt|           2|      1.0|        1 bath|    NULL|   1|[\"Hot water\", \"Wi...| $75.00|            30|           300|                    30|                    30|                   300|                   300|                  30.0|                 300.0|            NULL|               t|              0|              0|              0|             263|           2024-09-13|               23|                    1|                     0|  2011-03-13| 2024-06-09|                 4.9|                   4.9|                     4.86|                  5.0|                        4.9|                  4.67|                4.7|Available with a ...|               f|                             3|                                          3|                                           0|                                          0|             0.14|    75.00|           75.0|\n",
      "| 11487|https://www.airbn...|20240906025355|  2024-09-13|city scrape|Heart of  Paris, ...|Very confortable ...| This studio is in...|https://a0.muscac...|  42666|https://www.airbn...|  Brigitte|2009-10-01|       France|                  ..|      within a day|              100%|                 80%|                t|https://a0.muscac...|https://a0.muscac...|          République|                  2|                        2|  ['email', 'phone']|                   t|                     t|Neighborhood high...|            Popincourt|                        NULL|         48.86441|          2.37139|Entire rental unit|Entire home/apt|           1|      1.0|        1 bath|       0|   1|[\"Hot water\", \"Co...| $80.00|            30|           305|                    30|                    30|                   305|                   305|                  30.0|                 305.0|            NULL|               t|              4|              4|             22|             297|           2024-09-13|               12|                    5|                     0|  2012-07-02| 2024-07-01|                4.92|                  4.75|                     4.92|                 4.92|                       4.92|                  4.92|               4.67|Available with a ...|               f|                             2|                                          2|                                           0|                                          0|             0.08|    80.00|           80.0|\n",
      "| 11798|https://www.airbn...|20240906025355|  2024-09-10|city scrape|Loft very charmin...|My apartment is l...| I'm right next to...|https://a0.muscac...|  44444|https://www.airbn...|  Laurence|2009-10-08|Paris, France|Very dynamic pers...|               N/A|               N/A|                100%|                f|https://a0.muscac...|https://a0.muscac...|Place d'Italie - ...|                  1|                        1|  ['email', 'phone']|                   t|                     t|Neighborhood high...|              Gobelins|                        NULL|48.82524108886719|2.367469072341919|       Entire loft|Entire home/apt|           2|      1.0|        1 bath|       1|   1|[\"Cooking basics\"...|$124.00|             3|          1125|                     4|                     4|                  1125|                  1125|                   4.0|                1125.0|            NULL|               t|             29|             59|             89|             357|           2024-09-10|              121|                    4|                     0|  2012-09-21| 2023-10-21|                4.84|                  4.92|                      4.8|                 4.94|                       4.95|                  4.83|               4.77|       7511300241931|               f|                             1|                                          1|                                           0|                                          0|             0.83|   124.00|          124.0|\n",
      "+------+--------------------+--------------+------------+-----------+--------------------+--------------------+---------------------+--------------------+-------+--------------------+----------+----------+-------------+--------------------+------------------+------------------+--------------------+-----------------+--------------------+--------------------+--------------------+-------------------+-------------------------+--------------------+--------------------+----------------------+--------------------+----------------------+----------------------------+-----------------+-----------------+------------------+---------------+------------+---------+--------------+--------+----+--------------------+-------+--------------+--------------+----------------------+----------------------+----------------------+----------------------+----------------------+----------------------+----------------+----------------+---------------+---------------+---------------+----------------+---------------------+-----------------+---------------------+----------------------+------------+-----------+--------------------+----------------------+-------------------------+---------------------+---------------------------+----------------------+-------------------+--------------------+----------------+------------------------------+-------------------------------------------+--------------------------------------------+-------------------------------------------+-----------------+---------+---------------+\n",
      "only showing top 10 rows\n",
      "\n"
     ]
    }
   ],
   "source": [
    "# show top 10 data rows\n",
    "listings_df.show(10)"
   ]
  },
  {
   "cell_type": "code",
   "execution_count": 41,
   "metadata": {
    "colab": {
     "base_uri": "https://localhost:8080/"
    },
    "executionInfo": {
     "elapsed": 41734,
     "status": "ok",
     "timestamp": 1734097612285,
     "user": {
      "displayName": "Patryk Nowicki",
      "userId": "04245611520472912421"
     },
     "user_tz": -60
    },
    "id": "sad659iXI-E8",
    "outputId": "c2b38b02-51c3-42cd-bec5-e8fe8f2fedab"
   },
   "outputs": [
    {
     "ename": "PySparkTypeError",
     "evalue": "[NOT_ITERABLE] Column is not iterable.",
     "output_type": "error",
     "traceback": [
      "\u001b[0;31m---------------------------------------------------------------------------\u001b[0m",
      "\u001b[0;31mPySparkTypeError\u001b[0m                          Traceback (most recent call last)",
      "Cell \u001b[0;32mIn[41], line 1\u001b[0m\n\u001b[0;32m----> 1\u001b[0m max_value \u001b[38;5;241m=\u001b[39m listings_df\u001b[38;5;241m.\u001b[39magg(\u001b[38;5;28mmax\u001b[39m(F\u001b[38;5;241m.\u001b[39mcol(\u001b[38;5;124m\"\u001b[39m\u001b[38;5;124mprice_new_float\u001b[39m\u001b[38;5;124m\"\u001b[39m)))\u001b[38;5;241m.\u001b[39mcollect()[\u001b[38;5;241m0\u001b[39m][\u001b[38;5;241m0\u001b[39m]\n\u001b[1;32m      2\u001b[0m \u001b[38;5;28mprint\u001b[39m(\u001b[38;5;124mf\u001b[39m\u001b[38;5;124m\"\u001b[39m\u001b[38;5;124mMaximum value in the column: \u001b[39m\u001b[38;5;132;01m{\u001b[39;00mmax_value\u001b[38;5;132;01m}\u001b[39;00m\u001b[38;5;124m\"\u001b[39m)\n",
      "File \u001b[0;32m/opt/anaconda3/lib/python3.12/site-packages/pyspark/sql/column.py:718\u001b[0m, in \u001b[0;36mColumn.__iter__\u001b[0;34m(self)\u001b[0m\n\u001b[1;32m    717\u001b[0m \u001b[38;5;28;01mdef\u001b[39;00m \u001b[38;5;21m__iter__\u001b[39m(\u001b[38;5;28mself\u001b[39m) \u001b[38;5;241m-\u001b[39m\u001b[38;5;241m>\u001b[39m \u001b[38;5;28;01mNone\u001b[39;00m:\n\u001b[0;32m--> 718\u001b[0m     \u001b[38;5;28;01mraise\u001b[39;00m PySparkTypeError(\n\u001b[1;32m    719\u001b[0m         error_class\u001b[38;5;241m=\u001b[39m\u001b[38;5;124m\"\u001b[39m\u001b[38;5;124mNOT_ITERABLE\u001b[39m\u001b[38;5;124m\"\u001b[39m, message_parameters\u001b[38;5;241m=\u001b[39m{\u001b[38;5;124m\"\u001b[39m\u001b[38;5;124mobjectName\u001b[39m\u001b[38;5;124m\"\u001b[39m: \u001b[38;5;124m\"\u001b[39m\u001b[38;5;124mColumn\u001b[39m\u001b[38;5;124m\"\u001b[39m}\n\u001b[1;32m    720\u001b[0m     )\n",
      "\u001b[0;31mPySparkTypeError\u001b[0m: [NOT_ITERABLE] Column is not iterable."
     ]
    }
   ],
   "source": [
    "max_value = listings_df.agg(max(F.col(\"price_new_float\"))).collect()[0][0]\n",
    "print(f\"Maximum value in the column: {max_value}\")"
   ]
  },
  {
   "cell_type": "markdown",
   "metadata": {
    "id": "ES-JL_VpYV7g"
   },
   "source": [
    "# Data preparation"
   ]
  },
  {
   "cell_type": "code",
   "execution_count": 44,
   "metadata": {
    "id": "aDgiHcxQ64em"
   },
   "outputs": [],
   "source": [
    "from pyspark.ml.feature import VectorAssembler\n",
    "\n",
    "vectorAssembler = VectorAssembler(\n",
    "    inputCols = ['accommodates',\n",
    "                 'latitude',\n",
    "                  'longitude',\n",
    "                 'bedrooms',\n",
    "                 'beds',\n",
    "                 'number_of_reviews',\n",
    "                 'review_scores_rating',\n",
    "                 'reviews_per_month'],\n",
    "    outputCol = 'features', handleInvalid='skip')\n",
    "\n",
    "v_df = vectorAssembler.transform(listings_df)\n",
    "v_df = v_df.select(['features', 'price_new_float'])\n",
    "\n",
    "splits = v_df.randomSplit([0.7, 0.3])\n",
    "train_df = splits[0].na.drop()\n",
    "test_df = splits[1].na.drop()"
   ]
  },
  {
   "cell_type": "code",
   "execution_count": 46,
   "metadata": {
    "colab": {
     "base_uri": "https://localhost:8080/"
    },
    "executionInfo": {
     "elapsed": 12222,
     "status": "ok",
     "timestamp": 1734089141945,
     "user": {
      "displayName": "Patryk Nowicki",
      "userId": "04245611520472912421"
     },
     "user_tz": -60
    },
    "id": "X9AEc7SVA5la",
    "outputId": "7afa6a7d-1f47-4f30-de87-95f94ab12ac2"
   },
   "outputs": [
    {
     "name": "stderr",
     "output_type": "stream",
     "text": [
      "[Stage 16:>                                                         (0 + 1) / 1]\r"
     ]
    },
    {
     "name": "stdout",
     "output_type": "stream",
     "text": [
      "+--------------------+---------------+\n",
      "|            features|price_new_float|\n",
      "+--------------------+---------------+\n",
      "|[1.0,48.81629,2.3...|           51.0|\n",
      "|[1.0,48.81762,2.3...|           27.0|\n",
      "|[1.0,48.82003,2.3...|           54.0|\n",
      "|[1.0,48.820573431...|          120.0|\n",
      "|[1.0,48.82062,2.3...|          100.0|\n",
      "|[1.0,48.82093,2.3...|           39.0|\n",
      "|[1.0,48.82201,2.3...|           42.0|\n",
      "|[1.0,48.82212,2.3...|           65.0|\n",
      "|[1.0,48.822366988...|           40.0|\n",
      "|[1.0,48.822606921...|           60.0|\n",
      "+--------------------+---------------+\n",
      "only showing top 10 rows\n",
      "\n"
     ]
    },
    {
     "name": "stderr",
     "output_type": "stream",
     "text": [
      "                                                                                \r"
     ]
    }
   ],
   "source": [
    "train_df.show(10)"
   ]
  },
  {
   "cell_type": "markdown",
   "metadata": {
    "id": "AXpQRe7SKZFi"
   },
   "source": [
    "# Modelling"
   ]
  },
  {
   "cell_type": "markdown",
   "metadata": {
    "id": "mYTEJ_u9KV15"
   },
   "source": [
    "## Linear model"
   ]
  },
  {
   "cell_type": "markdown",
   "metadata": {
    "id": "Prm-GK8KYxDY"
   },
   "source": [
    "### Model training"
   ]
  },
  {
   "cell_type": "code",
   "execution_count": 51,
   "metadata": {
    "id": "IAHYbv94uUip"
   },
   "outputs": [
    {
     "name": "stderr",
     "output_type": "stream",
     "text": [
      "25/01/23 17:24:58 WARN InstanceBuilder: Failed to load implementation from:dev.ludovic.netlib.blas.JNIBLAS\n",
      "                                                                                \r"
     ]
    }
   ],
   "source": [
    "from pyspark.ml.regression import LinearRegression\n",
    "\n",
    "# Load training data\n",
    "lr = LinearRegression(featuresCol = 'features',\n",
    "                      labelCol='price_new_float',\n",
    "                      maxIter=10,\n",
    "                      regParam=0.3,\n",
    "                      elasticNetParam=0.8)\n",
    "\n",
    "# Fit the model\n",
    "lrModel = lr.fit(train_df)"
   ]
  },
  {
   "cell_type": "markdown",
   "metadata": {
    "id": "-y7OARmRYzYR"
   },
   "source": [
    "### Model evaluation"
   ]
  },
  {
   "cell_type": "code",
   "execution_count": 54,
   "metadata": {
    "colab": {
     "base_uri": "https://localhost:8080/"
    },
    "executionInfo": {
     "elapsed": 7822,
     "status": "ok",
     "timestamp": 1734089240424,
     "user": {
      "displayName": "Patryk Nowicki",
      "userId": "04245611520472912421"
     },
     "user_tz": -60
    },
    "id": "CVdqjlOv-o5d",
    "outputId": "fde6b2a8-a96f-473c-8d95-7e8b7c072f68"
   },
   "outputs": [
    {
     "name": "stdout",
     "output_type": "stream",
     "text": [
      "LinearRegressionModel: uid=LinearRegression_f913ce8769e5, numFeatures=8\n",
      "Intercept: \n",
      "\t 102.75\n",
      "Coefficients:\n",
      "\t ['12.81', '-2.29', '-0.36', '34.83', '-6.25', '-0.03', '17.51', '-3.31']\n",
      "numIterations: \n",
      "\t 10\n",
      "objectiveHistory: \n",
      "\t ['0.50', '0.48', '0.42', '0.42', '0.41', '0.41', '0.41', '0.41', '0.41', '0.41', '0.41']\n",
      "RMSE:\n",
      "\t 168.99\n",
      "r-squared:\n",
      "\t 0.18\n",
      "Residuals:\n",
      " \n"
     ]
    },
    {
     "name": "stderr",
     "output_type": "stream",
     "text": [
      "[Stage 21:>                                                         (0 + 1) / 1]\r"
     ]
    },
    {
     "name": "stdout",
     "output_type": "stream",
     "text": [
      "+-------------------+\n",
      "|          residuals|\n",
      "+-------------------+\n",
      "| -56.11222739372387|\n",
      "|  -86.7168411511918|\n",
      "|-22.155600988916092|\n",
      "|  13.99053183295733|\n",
      "|-14.057083881404793|\n",
      "|  -66.3190352064519|\n",
      "| -68.19806929123183|\n",
      "|-40.871915253663815|\n",
      "| -39.09146835365971|\n",
      "| -53.78012609695503|\n",
      "| -34.29246169034923|\n",
      "|  47.88150000175908|\n",
      "|  18.68202982392978|\n",
      "|-30.311252185657878|\n",
      "| -45.79313201802778|\n",
      "| -52.50212651742444|\n",
      "| -42.56890808907528|\n",
      "|   -73.473808350751|\n",
      "| -56.42721211423722|\n",
      "| -5.756821288334038|\n",
      "+-------------------+\n",
      "only showing top 20 rows\n",
      "\n"
     ]
    },
    {
     "name": "stderr",
     "output_type": "stream",
     "text": [
      "                                                                                \r"
     ]
    }
   ],
   "source": [
    "# Print the coefficients and intercept for linear regression\n",
    "print(lrModel)\n",
    "def round_(x): return f'{x:.2f}'\n",
    "print(f'Intercept: \\n\\t {round_(lrModel.intercept)}')\n",
    "print(f'Coefficients:\\n\\t {list(map(round_, list(lrModel.coefficients)))}')\n",
    "\n",
    "# Summarize the model over the training set and print out some metrics\n",
    "trainingSummary = lrModel.summary\n",
    "print(f'numIterations: \\n\\t {lrModel.summary.totalIterations}')\n",
    "print(f'objectiveHistory: \\n\\t {list(map(round_, list(lrModel.summary.objectiveHistory))) }')\n",
    "print(f'RMSE:\\n\\t {round_(lrModel.summary.rootMeanSquaredError)}')\n",
    "print(f'r-squared:\\n\\t {round_(lrModel.summary.r2)}')\n",
    "\n",
    "print('Residuals:\\n ')\n",
    "lrModel.summary.residuals.show()"
   ]
  },
  {
   "cell_type": "code",
   "execution_count": 55,
   "metadata": {
    "colab": {
     "base_uri": "https://localhost:8080/"
    },
    "executionInfo": {
     "elapsed": 89939,
     "status": "ok",
     "timestamp": 1734089344322,
     "user": {
      "displayName": "Patryk Nowicki",
      "userId": "04245611520472912421"
     },
     "user_tz": -60
    },
    "id": "zcUlcBiXe2lF",
    "outputId": "8f35ecb4-a694-4967-9283-91f6bcb5c771"
   },
   "outputs": [
    {
     "name": "stdout",
     "output_type": "stream",
     "text": [
      "LinearRegressionModel: uid=LinearRegression_f913ce8769e5, numFeatures=8\n"
     ]
    },
    {
     "name": "stderr",
     "output_type": "stream",
     "text": [
      "                                                                                \r"
     ]
    },
    {
     "name": "stdout",
     "output_type": "stream",
     "text": [
      "+------------------+---------------+--------------------+\n",
      "|        prediction|price_new_float|            features|\n",
      "+------------------+---------------+--------------------+\n",
      "|107.11222739372387|           51.0|[1.0,48.81629,2.3...|\n",
      "| 113.7168411511918|           27.0|[1.0,48.81762,2.3...|\n",
      "| 76.15560098891609|           54.0|[1.0,48.82003,2.3...|\n",
      "|106.00946816704267|          120.0|[1.0,48.820573431...|\n",
      "| 114.0570838814048|          100.0|[1.0,48.82062,2.3...|\n",
      "+------------------+---------------+--------------------+\n",
      "only showing top 5 rows\n",
      "\n"
     ]
    },
    {
     "name": "stderr",
     "output_type": "stream",
     "text": [
      "                                                                                \r"
     ]
    },
    {
     "name": "stdout",
     "output_type": "stream",
     "text": [
      "Root Mean Squared Error (RMSE) on train data = 168.99\n"
     ]
    },
    {
     "name": "stderr",
     "output_type": "stream",
     "text": [
      "                                                                                \r"
     ]
    },
    {
     "name": "stdout",
     "output_type": "stream",
     "text": [
      "+------------------+---------------+--------------------+\n",
      "|        prediction|price_new_float|            features|\n",
      "+------------------+---------------+--------------------+\n",
      "|117.33253804176522|           45.0|[1.0,48.817996216...|\n",
      "|  119.567004320525|           75.0|[1.0,48.81964,2.3...|\n",
      "|116.05118707350368|           65.0|[1.0,48.82295,2.3...|\n",
      "|116.77520078249765|           70.0|[1.0,48.8241,2.34...|\n",
      "| 256.6481468903319|           27.0|[1.0,48.82482,2.3...|\n",
      "+------------------+---------------+--------------------+\n",
      "only showing top 5 rows\n",
      "\n"
     ]
    },
    {
     "name": "stderr",
     "output_type": "stream",
     "text": [
      "[Stage 26:===================================================>     (9 + 1) / 10]\r"
     ]
    },
    {
     "name": "stdout",
     "output_type": "stream",
     "text": [
      "Root Mean Squared Error (RMSE) on test data = 168.925\n"
     ]
    },
    {
     "name": "stderr",
     "output_type": "stream",
     "text": [
      "                                                                                \r"
     ]
    }
   ],
   "source": [
    "from pyspark.ml.evaluation import RegressionEvaluator\n",
    "\n",
    "print(lrModel)  # summary only\n",
    "\n",
    "# Train predictions\n",
    "train_predictions = lrModel.transform(train_df)\n",
    "train_predictions.select(\"prediction\", \"price_new_float\", \"features\").show(5)\n",
    "train_evaluator = RegressionEvaluator(\n",
    "    labelCol=\"price_new_float\",\n",
    "    predictionCol=\"prediction\",\n",
    "    metricName=\"rmse\")\n",
    "train_rmse = train_evaluator.evaluate(train_predictions)\n",
    "print(\"Root Mean Squared Error (RMSE) on train data = %g\" % train_rmse)\n",
    "\n",
    "# Test predictions\n",
    "test_predictions = lrModel.transform(test_df)\n",
    "\n",
    "# Select example rows to display.\n",
    "test_predictions.select(\"prediction\", \"price_new_float\", \"features\").show(5)\n",
    "\n",
    "# Select (prediction, true label) and compute test error\n",
    "test_evaluator = RegressionEvaluator(\n",
    "    labelCol=\"price_new_float\",\n",
    "    predictionCol=\"prediction\",\n",
    "    metricName=\"rmse\")\n",
    "test_rmse = test_evaluator.evaluate(test_predictions)\n",
    "print(\"Root Mean Squared Error (RMSE) on test data = %g\" % test_rmse)"
   ]
  },
  {
   "cell_type": "markdown",
   "metadata": {
    "id": "eSeo2bAnHoiV"
   },
   "source": [
    "## Random Forest"
   ]
  },
  {
   "cell_type": "markdown",
   "metadata": {
    "id": "QrYKGs-tZMk3"
   },
   "source": [
    "### Model training"
   ]
  },
  {
   "cell_type": "code",
   "execution_count": 62,
   "metadata": {
    "id": "ryzdYJMkZR-6"
   },
   "outputs": [],
   "source": [
    "from pyspark.ml import Pipeline\n",
    "from pyspark.ml.regression import RandomForestRegressor\n",
    "from pyspark.ml.feature import VectorIndexer\n",
    "from pyspark.ml.evaluation import RegressionEvaluator"
   ]
  },
  {
   "cell_type": "code",
   "execution_count": 64,
   "metadata": {
    "colab": {
     "base_uri": "https://localhost:8080/",
     "height": 176
    },
    "executionInfo": {
     "elapsed": 366,
     "status": "error",
     "timestamp": 1734102573081,
     "user": {
      "displayName": "Patryk Nowicki",
      "userId": "04245611520472912421"
     },
     "user_tz": -60
    },
    "id": "lUYkZkZfH0tS",
    "outputId": "e4179334-e094-49db-a979-ed49484fc960"
   },
   "outputs": [
    {
     "name": "stderr",
     "output_type": "stream",
     "text": [
      "                                                                                \r"
     ]
    }
   ],
   "source": [
    "from pyspark.ml.regression import RandomForestRegressor\n",
    "\n",
    "# Train a RandomForest model.\n",
    "rf = RandomForestRegressor(featuresCol=\"features\",\n",
    "                           labelCol = 'price_new_float',\n",
    "                           maxDepth = 5, numTrees = 100)\n",
    "\n",
    "# Train model.  This also runs the indexer.\n",
    "rfModel = rf.fit(train_df)"
   ]
  },
  {
   "cell_type": "markdown",
   "metadata": {
    "id": "cnPGuNlyfFny"
   },
   "source": [
    "### Model evaluation"
   ]
  },
  {
   "cell_type": "code",
   "execution_count": 67,
   "metadata": {
    "colab": {
     "base_uri": "https://localhost:8080/"
    },
    "executionInfo": {
     "elapsed": 99196,
     "status": "ok",
     "timestamp": 1734089595445,
     "user": {
      "displayName": "Patryk Nowicki",
      "userId": "04245611520472912421"
     },
     "user_tz": -60
    },
    "id": "ttgS19VGZryo",
    "outputId": "dd9d24cc-dfa5-4fbf-d77e-1579652aa703"
   },
   "outputs": [
    {
     "name": "stdout",
     "output_type": "stream",
     "text": [
      "RandomForestRegressionModel: uid=RandomForestRegressor_71f5415f4b43, numTrees=100, numFeatures=8\n"
     ]
    },
    {
     "name": "stderr",
     "output_type": "stream",
     "text": [
      "                                                                                \r"
     ]
    },
    {
     "name": "stdout",
     "output_type": "stream",
     "text": [
      "+------------------+---------------+--------------------+\n",
      "|        prediction|price_new_float|            features|\n",
      "+------------------+---------------+--------------------+\n",
      "| 120.5328256477612|           51.0|[1.0,48.81629,2.3...|\n",
      "|120.45383051801012|           27.0|[1.0,48.81762,2.3...|\n",
      "| 119.9327775542346|           54.0|[1.0,48.82003,2.3...|\n",
      "|118.88177022763035|          120.0|[1.0,48.820573431...|\n",
      "|120.07214414022415|          100.0|[1.0,48.82062,2.3...|\n",
      "+------------------+---------------+--------------------+\n",
      "only showing top 5 rows\n",
      "\n"
     ]
    },
    {
     "name": "stderr",
     "output_type": "stream",
     "text": [
      "                                                                                \r"
     ]
    },
    {
     "name": "stdout",
     "output_type": "stream",
     "text": [
      "Root Mean Squared Error (RMSE) on train data = 138.507\n"
     ]
    },
    {
     "name": "stderr",
     "output_type": "stream",
     "text": [
      "                                                                                \r"
     ]
    },
    {
     "name": "stdout",
     "output_type": "stream",
     "text": [
      "+------------------+---------------+--------------------+\n",
      "|        prediction|price_new_float|            features|\n",
      "+------------------+---------------+--------------------+\n",
      "|121.20472691185765|           45.0|[1.0,48.817996216...|\n",
      "| 121.5036201423922|           75.0|[1.0,48.81964,2.3...|\n",
      "|120.37525181089202|           65.0|[1.0,48.82295,2.3...|\n",
      "|121.20472691185765|           70.0|[1.0,48.8241,2.34...|\n",
      "| 245.3837618735119|           27.0|[1.0,48.82482,2.3...|\n",
      "+------------------+---------------+--------------------+\n",
      "only showing top 5 rows\n",
      "\n"
     ]
    },
    {
     "name": "stderr",
     "output_type": "stream",
     "text": [
      "[Stage 46:===================================================>     (9 + 1) / 10]\r"
     ]
    },
    {
     "name": "stdout",
     "output_type": "stream",
     "text": [
      "Root Mean Squared Error (RMSE) on test data = 138.823\n"
     ]
    },
    {
     "name": "stderr",
     "output_type": "stream",
     "text": [
      "                                                                                \r"
     ]
    }
   ],
   "source": [
    "from pyspark.ml.evaluation import RegressionEvaluator\n",
    "\n",
    "print(rfModel)  # summary only\n",
    "\n",
    "# Train predictions\n",
    "train_predictions = rfModel.transform(train_df)\n",
    "train_predictions.select(\"prediction\", \"price_new_float\", \"features\").show(5)\n",
    "train_evaluator = RegressionEvaluator(\n",
    "    labelCol=\"price_new_float\",\n",
    "    predictionCol=\"prediction\",\n",
    "    metricName=\"rmse\")\n",
    "train_rmse = train_evaluator.evaluate(train_predictions)\n",
    "print(\"Root Mean Squared Error (RMSE) on train data = %g\" % train_rmse)\n",
    "\n",
    "# Test predictions\n",
    "test_predictions = rfModel.transform(test_df)\n",
    "\n",
    "# Select example rows to display.\n",
    "test_predictions.select(\"prediction\", \"price_new_float\", \"features\").show(5)\n",
    "\n",
    "# Select (prediction, true label) and compute test error\n",
    "test_evaluator = RegressionEvaluator(\n",
    "    labelCol=\"price_new_float\", predictionCol=\"prediction\", metricName=\"rmse\")\n",
    "test_rmse = test_evaluator.evaluate(test_predictions)\n",
    "print(\"Root Mean Squared Error (RMSE) on test data = %g\" % test_rmse)"
   ]
  },
  {
   "cell_type": "markdown",
   "metadata": {
    "id": "5z1z9yz1NaUx"
   },
   "source": [
    "# EDA/Feature enineering\n"
   ]
  },
  {
   "cell_type": "markdown",
   "metadata": {
    "id": "YdEFSuaWWSvH"
   },
   "source": [
    "## City column"
   ]
  },
  {
   "cell_type": "code",
   "execution_count": 88,
   "metadata": {
    "id": "NyG3VsNwKrYf"
   },
   "outputs": [],
   "source": [
    "# # Add city column (based on file dir)\n",
    "from pyspark.sql.functions import split, col\n",
    "\n",
    "listings_df = listings_df\\\n",
    "    .withColumn(\"input_file\", input_file_name())\\\n",
    "    .withColumn(\"city\", split(col('input_file'), '/').getItem(5))"
   ]
  },
  {
   "cell_type": "code",
   "execution_count": 90,
   "metadata": {
    "colab": {
     "base_uri": "https://localhost:8080/"
    },
    "executionInfo": {
     "elapsed": 394,
     "status": "ok",
     "timestamp": 1734089595831,
     "user": {
      "displayName": "Patryk Nowicki",
      "userId": "04245611520472912421"
     },
     "user_tz": -60
    },
    "id": "_74Hr3b5-HMw",
    "outputId": "8ace67ac-7dc6-44ef-9b44-62b382834aba"
   },
   "outputs": [
    {
     "name": "stdout",
     "output_type": "stream",
     "text": [
      "+----------------------------------------------------------------------------+---------+\n",
      "|input_file                                                                  |city     |\n",
      "+----------------------------------------------------------------------------+---------+\n",
      "|file:///Users/michalkoperski/Downloads/aaa/airbnb_data/paris/listings.csv.gz|Downloads|\n",
      "|file:///Users/michalkoperski/Downloads/aaa/airbnb_data/paris/listings.csv.gz|Downloads|\n",
      "|file:///Users/michalkoperski/Downloads/aaa/airbnb_data/paris/listings.csv.gz|Downloads|\n",
      "|file:///Users/michalkoperski/Downloads/aaa/airbnb_data/paris/listings.csv.gz|Downloads|\n",
      "|file:///Users/michalkoperski/Downloads/aaa/airbnb_data/paris/listings.csv.gz|Downloads|\n",
      "|file:///Users/michalkoperski/Downloads/aaa/airbnb_data/paris/listings.csv.gz|Downloads|\n",
      "|file:///Users/michalkoperski/Downloads/aaa/airbnb_data/paris/listings.csv.gz|Downloads|\n",
      "|file:///Users/michalkoperski/Downloads/aaa/airbnb_data/paris/listings.csv.gz|Downloads|\n",
      "|file:///Users/michalkoperski/Downloads/aaa/airbnb_data/paris/listings.csv.gz|Downloads|\n",
      "|file:///Users/michalkoperski/Downloads/aaa/airbnb_data/paris/listings.csv.gz|Downloads|\n",
      "+----------------------------------------------------------------------------+---------+\n",
      "only showing top 10 rows\n",
      "\n"
     ]
    }
   ],
   "source": [
    "listings_df.select('input_file','city').show(10, truncate = False)"
   ]
  }
 ],
 "metadata": {
  "anaconda-cloud": {},
  "colab": {
   "provenance": [],
   "toc_visible": true
  },
  "kernelspec": {
   "display_name": "Python 3 (ipykernel)",
   "language": "python",
   "name": "python3"
  },
  "language_info": {
   "codemirror_mode": {
    "name": "ipython",
    "version": 3
   },
   "file_extension": ".py",
   "mimetype": "text/x-python",
   "name": "python",
   "nbconvert_exporter": "python",
   "pygments_lexer": "ipython3",
   "version": "3.12.4"
  }
 },
 "nbformat": 4,
 "nbformat_minor": 4
}
